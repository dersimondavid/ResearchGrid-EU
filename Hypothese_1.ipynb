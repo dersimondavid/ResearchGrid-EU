{
 "cells": [
  {
   "cell_type": "markdown",
   "id": "d41464e8",
   "metadata": {},
   "source": [
    "# Hypothese 1"
   ]
  },
  {
   "cell_type": "code",
   "execution_count": 53,
   "id": "dbecb576",
   "metadata": {},
   "outputs": [],
   "source": [
    "import os\n",
    "\n",
    "import matplotlib.pyplot as plt\n",
    "import matplotlib.ticker as ticker\n",
    "import numpy as np\n",
    "import pandas as pd\n",
    "import scipy.stats as stats\n",
    "import statsmodels.api as sm\n",
    "from matplotlib.patches import Patch\n",
    "\n",
    "import settings"
   ]
  },
  {
   "cell_type": "markdown",
   "id": "3c48da86",
   "metadata": {},
   "source": [
    "## Daten einlesen"
   ]
  },
  {
   "cell_type": "code",
   "execution_count": 80,
   "id": "cd62056d",
   "metadata": {},
   "outputs": [
    {
     "data": {
      "text/html": [
       "<div>\n",
       "<style scoped>\n",
       "    .dataframe tbody tr th:only-of-type {\n",
       "        vertical-align: middle;\n",
       "    }\n",
       "\n",
       "    .dataframe tbody tr th {\n",
       "        vertical-align: top;\n",
       "    }\n",
       "\n",
       "    .dataframe thead th {\n",
       "        text-align: right;\n",
       "    }\n",
       "</style>\n",
       "<table border=\"1\" class=\"dataframe\">\n",
       "  <thead>\n",
       "    <tr style=\"text-align: right;\">\n",
       "      <th></th>\n",
       "      <th>Jahr</th>\n",
       "      <th>Anzahl_Paper</th>\n",
       "    </tr>\n",
       "  </thead>\n",
       "  <tbody>\n",
       "    <tr>\n",
       "      <th>0</th>\n",
       "      <td>2000</td>\n",
       "      <td>531528</td>\n",
       "    </tr>\n",
       "    <tr>\n",
       "      <th>1</th>\n",
       "      <td>2001</td>\n",
       "      <td>551318</td>\n",
       "    </tr>\n",
       "    <tr>\n",
       "      <th>2</th>\n",
       "      <td>2002</td>\n",
       "      <td>662708</td>\n",
       "    </tr>\n",
       "    <tr>\n",
       "      <th>3</th>\n",
       "      <td>2003</td>\n",
       "      <td>674234</td>\n",
       "    </tr>\n",
       "    <tr>\n",
       "      <th>4</th>\n",
       "      <td>2004</td>\n",
       "      <td>711148</td>\n",
       "    </tr>\n",
       "    <tr>\n",
       "      <th>5</th>\n",
       "      <td>2005</td>\n",
       "      <td>766324</td>\n",
       "    </tr>\n",
       "    <tr>\n",
       "      <th>6</th>\n",
       "      <td>2006</td>\n",
       "      <td>853541</td>\n",
       "    </tr>\n",
       "    <tr>\n",
       "      <th>7</th>\n",
       "      <td>2007</td>\n",
       "      <td>888980</td>\n",
       "    </tr>\n",
       "    <tr>\n",
       "      <th>8</th>\n",
       "      <td>2008</td>\n",
       "      <td>958262</td>\n",
       "    </tr>\n",
       "    <tr>\n",
       "      <th>9</th>\n",
       "      <td>2009</td>\n",
       "      <td>1029663</td>\n",
       "    </tr>\n",
       "    <tr>\n",
       "      <th>10</th>\n",
       "      <td>2010</td>\n",
       "      <td>1083632</td>\n",
       "    </tr>\n",
       "    <tr>\n",
       "      <th>11</th>\n",
       "      <td>2011</td>\n",
       "      <td>1156649</td>\n",
       "    </tr>\n",
       "    <tr>\n",
       "      <th>12</th>\n",
       "      <td>2012</td>\n",
       "      <td>1236520</td>\n",
       "    </tr>\n",
       "    <tr>\n",
       "      <th>13</th>\n",
       "      <td>2013</td>\n",
       "      <td>1317864</td>\n",
       "    </tr>\n",
       "    <tr>\n",
       "      <th>14</th>\n",
       "      <td>2014</td>\n",
       "      <td>1388588</td>\n",
       "    </tr>\n",
       "    <tr>\n",
       "      <th>15</th>\n",
       "      <td>2015</td>\n",
       "      <td>1451468</td>\n",
       "    </tr>\n",
       "    <tr>\n",
       "      <th>16</th>\n",
       "      <td>2016</td>\n",
       "      <td>1513743</td>\n",
       "    </tr>\n",
       "    <tr>\n",
       "      <th>17</th>\n",
       "      <td>2017</td>\n",
       "      <td>1553428</td>\n",
       "    </tr>\n",
       "    <tr>\n",
       "      <th>18</th>\n",
       "      <td>2018</td>\n",
       "      <td>1638113</td>\n",
       "    </tr>\n",
       "    <tr>\n",
       "      <th>19</th>\n",
       "      <td>2019</td>\n",
       "      <td>1751182</td>\n",
       "    </tr>\n",
       "    <tr>\n",
       "      <th>20</th>\n",
       "      <td>2020</td>\n",
       "      <td>1876066</td>\n",
       "    </tr>\n",
       "    <tr>\n",
       "      <th>21</th>\n",
       "      <td>2021</td>\n",
       "      <td>1928659</td>\n",
       "    </tr>\n",
       "    <tr>\n",
       "      <th>22</th>\n",
       "      <td>2022</td>\n",
       "      <td>1813445</td>\n",
       "    </tr>\n",
       "    <tr>\n",
       "      <th>23</th>\n",
       "      <td>2023</td>\n",
       "      <td>1823423</td>\n",
       "    </tr>\n",
       "  </tbody>\n",
       "</table>\n",
       "</div>"
      ],
      "text/plain": [
       "    Jahr  Anzahl_Paper\n",
       "0   2000        531528\n",
       "1   2001        551318\n",
       "2   2002        662708\n",
       "3   2003        674234\n",
       "4   2004        711148\n",
       "5   2005        766324\n",
       "6   2006        853541\n",
       "7   2007        888980\n",
       "8   2008        958262\n",
       "9   2009       1029663\n",
       "10  2010       1083632\n",
       "11  2011       1156649\n",
       "12  2012       1236520\n",
       "13  2013       1317864\n",
       "14  2014       1388588\n",
       "15  2015       1451468\n",
       "16  2016       1513743\n",
       "17  2017       1553428\n",
       "18  2018       1638113\n",
       "19  2019       1751182\n",
       "20  2020       1876066\n",
       "21  2021       1928659\n",
       "22  2022       1813445\n",
       "23  2023       1823423"
      ]
     },
     "execution_count": 80,
     "metadata": {},
     "output_type": "execute_result"
    }
   ],
   "source": [
    "OpenAlex_Anzahl_Paper_Zeitraum = pd.read_csv(\"data/input/OpenAlex_Anzahl_Paper_Zeitraum.csv\")\n",
    "OpenAlex_Anzahl_Paper_Zeitraum"
   ]
  },
  {
   "cell_type": "code",
   "execution_count": null,
   "id": "1d8eb86f",
   "metadata": {},
   "outputs": [
    {
     "data": {
      "text/html": [
       "<div>\n",
       "<style scoped>\n",
       "    .dataframe tbody tr th:only-of-type {\n",
       "        vertical-align: middle;\n",
       "    }\n",
       "\n",
       "    .dataframe tbody tr th {\n",
       "        vertical-align: top;\n",
       "    }\n",
       "\n",
       "    .dataframe thead th {\n",
       "        text-align: right;\n",
       "    }\n",
       "</style>\n",
       "<table border=\"1\" class=\"dataframe\">\n",
       "  <thead>\n",
       "    <tr style=\"text-align: right;\">\n",
       "      <th></th>\n",
       "      <th>Land</th>\n",
       "      <th>Jahr</th>\n",
       "      <th>Betrag in Mio. Euro</th>\n",
       "    </tr>\n",
       "  </thead>\n",
       "  <tbody>\n",
       "    <tr>\n",
       "      <th>287</th>\n",
       "      <td>Frankreich</td>\n",
       "      <td>2023</td>\n",
       "      <td>61725.558</td>\n",
       "    </tr>\n",
       "    <tr>\n",
       "      <th>47</th>\n",
       "      <td>Belgien</td>\n",
       "      <td>2023</td>\n",
       "      <td>19817.608</td>\n",
       "    </tr>\n",
       "    <tr>\n",
       "      <th>599</th>\n",
       "      <td>Schweden</td>\n",
       "      <td>2023</td>\n",
       "      <td>19481.687</td>\n",
       "    </tr>\n",
       "    <tr>\n",
       "      <th>335</th>\n",
       "      <td>Ungarn</td>\n",
       "      <td>2023</td>\n",
       "      <td>2726.054</td>\n",
       "    </tr>\n",
       "    <tr>\n",
       "      <th>263</th>\n",
       "      <td>Finnland</td>\n",
       "      <td>2023</td>\n",
       "      <td>8439.400</td>\n",
       "    </tr>\n",
       "    <tr>\n",
       "      <th>359</th>\n",
       "      <td>Irland</td>\n",
       "      <td>2023</td>\n",
       "      <td>8072.043</td>\n",
       "    </tr>\n",
       "    <tr>\n",
       "      <th>239</th>\n",
       "      <td>Spanien</td>\n",
       "      <td>2023</td>\n",
       "      <td>22379.154</td>\n",
       "    </tr>\n",
       "    <tr>\n",
       "      <th>383</th>\n",
       "      <td>Italien</td>\n",
       "      <td>2023</td>\n",
       "      <td>27939.070</td>\n",
       "    </tr>\n",
       "    <tr>\n",
       "      <th>215</th>\n",
       "      <td>Griechenland</td>\n",
       "      <td>2023</td>\n",
       "      <td>3362.682</td>\n",
       "    </tr>\n",
       "    <tr>\n",
       "      <th>407</th>\n",
       "      <td>Litauen</td>\n",
       "      <td>2023</td>\n",
       "      <td>772.435</td>\n",
       "    </tr>\n",
       "    <tr>\n",
       "      <th>191</th>\n",
       "      <td>Estland</td>\n",
       "      <td>2023</td>\n",
       "      <td>702.188</td>\n",
       "    </tr>\n",
       "    <tr>\n",
       "      <th>431</th>\n",
       "      <td>Luxemburg</td>\n",
       "      <td>2023</td>\n",
       "      <td>820.636</td>\n",
       "    </tr>\n",
       "    <tr>\n",
       "      <th>167</th>\n",
       "      <td>Dänemark</td>\n",
       "      <td>2023</td>\n",
       "      <td>11239.496</td>\n",
       "    </tr>\n",
       "    <tr>\n",
       "      <th>455</th>\n",
       "      <td>Lettland</td>\n",
       "      <td>2023</td>\n",
       "      <td>323.506</td>\n",
       "    </tr>\n",
       "    <tr>\n",
       "      <th>479</th>\n",
       "      <td>Malta</td>\n",
       "      <td>2023</td>\n",
       "      <td>131.293</td>\n",
       "    </tr>\n",
       "    <tr>\n",
       "      <th>143</th>\n",
       "      <td>Deutschland</td>\n",
       "      <td>2023</td>\n",
       "      <td>129972.000</td>\n",
       "    </tr>\n",
       "    <tr>\n",
       "      <th>503</th>\n",
       "      <td>Niederlande</td>\n",
       "      <td>2023</td>\n",
       "      <td>23780.320</td>\n",
       "    </tr>\n",
       "    <tr>\n",
       "      <th>119</th>\n",
       "      <td>Tschechien</td>\n",
       "      <td>2023</td>\n",
       "      <td>5819.863</td>\n",
       "    </tr>\n",
       "    <tr>\n",
       "      <th>527</th>\n",
       "      <td>Polen</td>\n",
       "      <td>2023</td>\n",
       "      <td>11694.395</td>\n",
       "    </tr>\n",
       "    <tr>\n",
       "      <th>95</th>\n",
       "      <td>Zypern</td>\n",
       "      <td>2023</td>\n",
       "      <td>213.500</td>\n",
       "    </tr>\n",
       "    <tr>\n",
       "      <th>551</th>\n",
       "      <td>Portugal</td>\n",
       "      <td>2023</td>\n",
       "      <td>4541.044</td>\n",
       "    </tr>\n",
       "    <tr>\n",
       "      <th>71</th>\n",
       "      <td>Bulgarien</td>\n",
       "      <td>2023</td>\n",
       "      <td>750.328</td>\n",
       "    </tr>\n",
       "    <tr>\n",
       "      <th>575</th>\n",
       "      <td>Rumänien</td>\n",
       "      <td>2023</td>\n",
       "      <td>1675.569</td>\n",
       "    </tr>\n",
       "    <tr>\n",
       "      <th>311</th>\n",
       "      <td>Kroatien</td>\n",
       "      <td>2023</td>\n",
       "      <td>1083.028</td>\n",
       "    </tr>\n",
       "    <tr>\n",
       "      <th>23</th>\n",
       "      <td>Österreich</td>\n",
       "      <td>2023</td>\n",
       "      <td>15580.400</td>\n",
       "    </tr>\n",
       "    <tr>\n",
       "      <th>623</th>\n",
       "      <td>Slowenien</td>\n",
       "      <td>2023</td>\n",
       "      <td>1364.626</td>\n",
       "    </tr>\n",
       "    <tr>\n",
       "      <th>647</th>\n",
       "      <td>Slowakei</td>\n",
       "      <td>2023</td>\n",
       "      <td>1279.922</td>\n",
       "    </tr>\n",
       "    <tr>\n",
       "      <th>46</th>\n",
       "      <td>Belgien</td>\n",
       "      <td>2022</td>\n",
       "      <td>18553.785</td>\n",
       "    </tr>\n",
       "  </tbody>\n",
       "</table>\n",
       "</div>"
      ],
      "text/plain": [
       "             Land  Jahr  Betrag in Mio. Euro\n",
       "287    Frankreich  2023            61725.558\n",
       "47        Belgien  2023            19817.608\n",
       "599      Schweden  2023            19481.687\n",
       "335        Ungarn  2023             2726.054\n",
       "263      Finnland  2023             8439.400\n",
       "359        Irland  2023             8072.043\n",
       "239       Spanien  2023            22379.154\n",
       "383       Italien  2023            27939.070\n",
       "215  Griechenland  2023             3362.682\n",
       "407       Litauen  2023              772.435\n",
       "191       Estland  2023              702.188\n",
       "431     Luxemburg  2023              820.636\n",
       "167      Dänemark  2023            11239.496\n",
       "455      Lettland  2023              323.506\n",
       "479         Malta  2023              131.293\n",
       "143   Deutschland  2023           129972.000\n",
       "503   Niederlande  2023            23780.320\n",
       "119    Tschechien  2023             5819.863\n",
       "527         Polen  2023            11694.395\n",
       "95         Zypern  2023              213.500\n",
       "551      Portugal  2023             4541.044\n",
       "71      Bulgarien  2023              750.328\n",
       "575      Rumänien  2023             1675.569\n",
       "311      Kroatien  2023             1083.028\n",
       "23     Österreich  2023            15580.400\n",
       "623     Slowenien  2023             1364.626\n",
       "647      Slowakei  2023             1279.922\n",
       "46        Belgien  2022            18553.785"
      ]
     },
     "execution_count": 83,
     "metadata": {},
     "output_type": "execute_result"
    }
   ],
   "source": [
    "Eurostat_Investitionen = pd.read_csv(\"data/input/Eurostat_Investitionen.csv\")\n",
    "Eurostat_Investitionen.sort_values(by=\"Jahr\", ascending=False).head(27)"
   ]
  },
  {
   "cell_type": "code",
   "execution_count": 56,
   "id": "9a599f9b",
   "metadata": {},
   "outputs": [],
   "source": [
    "os.makedirs('data/output', exist_ok=True)"
   ]
  },
  {
   "cell_type": "markdown",
   "id": "fa1e8564",
   "metadata": {},
   "source": [
    "## Investition vs. Output"
   ]
  },
  {
   "cell_type": "code",
   "execution_count": 57,
   "id": "e76a0ccc",
   "metadata": {},
   "outputs": [
    {
     "name": "stdout",
     "output_type": "stream",
     "text": [
      "Zeitraum: 2000-2023, 24 Jahre\n"
     ]
    }
   ],
   "source": [
    "# Daten vorbereiten\n",
    "jahressummen = Eurostat_Investitionen.groupby('Jahr')['Betrag in Mio. Euro'].sum().reset_index()\n",
    "\n",
    "jahressummen['Investitionen_Mrd'] = jahressummen['Betrag in Mio. Euro'] / 1000  # Mio. → Mrd.\n",
    "df = pd.merge(OpenAlex_Anzahl_Paper_Zeitraum, jahressummen[['Jahr', 'Investitionen_Mrd']], on='Jahr', how='inner')\n",
    "\n",
    "# Daten auf 2023 begrenzen, weil 2024 nicht vollständig ist\n",
    "df = df[df['Jahr'] <= 2023]\n",
    "df = df.sort_values('Jahr')\n",
    "\n",
    "print(f\"Zeitraum: {df['Jahr'].min():.0f}-{df['Jahr'].max():.0f}, {len(df)} Jahre\")"
   ]
  },
  {
   "cell_type": "code",
   "execution_count": 58,
   "id": "7ece4f4f",
   "metadata": {},
   "outputs": [
    {
     "data": {
      "image/png": "[encoded data removed]",
      "text/plain": [
       "<Figure size 1400x800 with 2 Axes>"
      ]
     },
     "metadata": {},
     "output_type": "display_data"
    }
   ],
   "source": [
    "# Visualisierungs Designeinstellungen\n",
    "plt.rcParams[\"svg.fonttype\"] = \"none\"\n",
    "plt.rcParams[\"pdf.fonttype\"] = 42\n",
    "plt.rcParams[\"font.family\"] = \"sans-serif\"\n",
    "\n",
    "fig, ax1 = plt.subplots(figsize=(14, 8))\n",
    "\n",
    "# Linke Y-Achse für Investitionen\n",
    "ax1.set_xlabel(\"Jahr\", fontsize=14, fontweight=\"bold\")\n",
    "ax1.set_ylabel(\n",
    "    \"Investitionen (Mrd €)\",\n",
    "    color=settings.COLORS_YELLOW,\n",
    "    fontsize=settings.CHART_FONTSIZE_AXIS,\n",
    "    fontweight=\"bold\",\n",
    ")\n",
    "ax1.plot(\n",
    "    df[\"Jahr\"],\n",
    "    df[\"Investitionen_Mrd\"],\n",
    "    \"-o\",\n",
    "    linewidth=2.5,\n",
    "    color=\"#FFC620\",\n",
    "    markersize=6,\n",
    "    label=\"Investitionen\",\n",
    ")\n",
    "ax1.tick_params(axis=\"y\", labelcolor=\"#FFC620\")\n",
    "ax1.grid(True, linestyle=\"--\", alpha=0.3)\n",
    "\n",
    "# Rechte Y-Achse für Publikationen\n",
    "ax2 = ax1.twinx()\n",
    "ax2.set_ylabel(\n",
    "    \"Publikationen\",\n",
    "    color=settings.COLORS_BLUE,\n",
    "    fontsize=settings.CHART_FONTSIZE_AXIS,\n",
    "    fontweight=\"bold\",\n",
    ")\n",
    "ax2.plot(\n",
    "    df[\"Jahr\"],\n",
    "    df[\"Anzahl_Paper\"],\n",
    "    \"-s\",\n",
    "    linewidth=2.5,\n",
    "    color=\"#00257C\",\n",
    "    markersize=6,\n",
    "    label=\"Publikationen\",\n",
    ")\n",
    "ax2.tick_params(axis=\"y\", labelcolor=settings.COLORS_BLUE)\n",
    "ax2.yaxis.set_major_formatter(ticker.StrMethodFormatter(\"{x:,.0f}\"))\n",
    "\n",
    "# Layoutkonfiguration\n",
    "plt.xticks(df[\"Jahr\"])\n",
    "ax1.set_xlim(df[\"Jahr\"].min() - 0.5, df[\"Jahr\"].max() + 0.5)\n",
    "plt.suptitle(\n",
    "    f'EU Forschungsinvestitionen vs. Publikationsoutput ({df[\"Jahr\"].min():.0f}-{df[\"Jahr\"].max():.0f})',\n",
    "    fontsize=16,\n",
    "    fontweight=\"bold\",\n",
    ")\n",
    "plt.figtext(\n",
    "    0.02,\n",
    "    0.02,\n",
    "    \"Quellen: Eurostat, OpenAlex\",\n",
    "    fontsize=8,\n",
    "    fontstyle=\"italic\",\n",
    "    color=settings.COLORS_FOOTER,\n",
    ")\n",
    "\n",
    "# Farbige Flächeneinfärbung zwischen den normalisierten Kurven\n",
    "norm_invest = df[\"Investitionen_Mrd\"] / df[\"Investitionen_Mrd\"].max()\n",
    "norm_publik = df[\"Anzahl_Paper\"] / df[\"Anzahl_Paper\"].max()\n",
    "\n",
    "for i in range(len(df) - 1):\n",
    "    x_vals = [\n",
    "        df[\"Jahr\"].iloc[i], \n",
    "        df[\"Jahr\"].iloc[i + 1]\n",
    "    ]\n",
    "    y1_vals = [\n",
    "        df[\"Investitionen_Mrd\"].iloc[i], \n",
    "        df[\"Investitionen_Mrd\"].iloc[i + 1]\n",
    "    ]\n",
    "    y2_norm = [\n",
    "        norm_publik.iloc[i] / norm_invest.iloc[i] * y1_vals[0],\n",
    "        norm_publik.iloc[i + 1] / norm_invest.iloc[i + 1] * y1_vals[1],\n",
    "    ]\n",
    "\n",
    "    diff = np.mean(\n",
    "        [\n",
    "            (norm_publik.iloc[i] - norm_invest.iloc[i]),\n",
    "            (norm_publik.iloc[i + 1] - norm_invest.iloc[i + 1]),\n",
    "        ]\n",
    "    )\n",
    "\n",
    "    color = settings.COLORS_BLUE if diff > 0 else settings.COLORS_YELLOW\n",
    "    ax1.fill_between(x_vals, y1_vals, y2_norm, color=color, alpha=0.6, zorder=1)\n",
    "\n",
    "# Legende mit Flächenfarben\n",
    "lines1, labels1 = ax1.get_legend_handles_labels()\n",
    "lines2, labels2 = ax2.get_legend_handles_labels()\n",
    "\n",
    "green_patch = Patch(\n",
    "    facecolor=\"#00257C\", alpha=0.6, label=\"Höherer rel. Publikationsoutput\"\n",
    ")\n",
    "orange_patch = Patch(facecolor=settings.COLORS_YELLOW, alpha=0.6, label=\"Höhere rel. Investitionen\")\n",
    "\n",
    "ax1.legend(\n",
    "    lines1 + lines2 + [green_patch, orange_patch],\n",
    "    labels1 + labels2 + [\"Höherer rel. Publikationsoutput\", \"Höhere rel. Investitionen\"],\n",
    "    loc=\"upper left\",\n",
    ")\n",
    "\n",
    "plt.tight_layout(rect=[0, 0.03, 1, 0.90])\n",
    "plt.savefig(\"data/output/Hypothese_1.svg\", format=\"svg\", bbox_inches=\"tight\")\n",
    "plt.show()"
   ]
  },
  {
   "cell_type": "markdown",
   "id": "de80a1a3",
   "metadata": {},
   "source": [
    "## Statistische Analyse"
   ]
  },
  {
   "cell_type": "markdown",
   "id": "886a93fd",
   "metadata": {},
   "source": [
    "### Deskriptive Statistik"
   ]
  },
  {
   "cell_type": "code",
   "execution_count": 59,
   "id": "ab8ba56f",
   "metadata": {},
   "outputs": [
    {
     "name": "stdout",
     "output_type": "stream",
     "text": [
      "Datengrundlage:\n",
      "    Anzahl Jahre: 24\n",
      "    Zeitraum: 2000 - 2023\n"
     ]
    }
   ],
   "source": [
    "print(\"Datengrundlage:\")\n",
    "print(f\"    Anzahl Jahre: {len(df)}\")\n",
    "print(f\"    Zeitraum: {df['Jahr'].min():.0f} - {df['Jahr'].max():.0f}\")"
   ]
  },
  {
   "cell_type": "code",
   "execution_count": 60,
   "id": "a8e32e6b",
   "metadata": {},
   "outputs": [
    {
     "name": "stdout",
     "output_type": "stream",
     "text": [
      "Investitionen (Mrd €):\n",
      "    Mittelwert: 236.78\n",
      "    Median: 232.51\n",
      "    Standardabweichung: 70.33\n",
      "    Min: 131.00\n",
      "    Max: 385.69\n",
      "    Variationskoeffizient: 29.7%\n"
     ]
    }
   ],
   "source": [
    "print(\"Investitionen (Mrd €):\")\n",
    "print(f\"    Mittelwert: {df['Investitionen_Mrd'].mean():.2f}\")\n",
    "print(f\"    Median: {df['Investitionen_Mrd'].median():.2f}\")\n",
    "print(f\"    Standardabweichung: {df['Investitionen_Mrd'].std():.2f}\")\n",
    "print(f\"    Min: {df['Investitionen_Mrd'].min():.2f}\")\n",
    "print(f\"    Max: {df['Investitionen_Mrd'].max():.2f}\")\n",
    "print(f\"    Variationskoeffizient: {(df['Investitionen_Mrd'].std() / df['Investitionen_Mrd'].mean() * 100):.1f}%\")"
   ]
  },
  {
   "cell_type": "code",
   "execution_count": 61,
   "id": "bee55f55",
   "metadata": {},
   "outputs": [
    {
     "name": "stdout",
     "output_type": "stream",
     "text": [
      "Publikationen:\n",
      "    Mittelwert: 1215020\n",
      "    Median: 1196584\n",
      "    Standardabweichung: 454931\n",
      "    Min: 531528\n",
      "    Max: 1928659\n",
      "    Variationskoeffizient: 37.4%\n"
     ]
    }
   ],
   "source": [
    "print(\"Publikationen:\")\n",
    "print(f\"    Mittelwert: {df['Anzahl_Paper'].mean():.0f}\")\n",
    "print(f\"    Median: {df['Anzahl_Paper'].median():.0f}\")\n",
    "print(f\"    Standardabweichung: {df['Anzahl_Paper'].std():.0f}\")\n",
    "print(f\"    Min: {df['Anzahl_Paper'].min():.0f}\")\n",
    "print(f\"    Max: {df['Anzahl_Paper'].max():.0f}\")\n",
    "print(f\"    Variationskoeffizient: {(df['Anzahl_Paper'].std() / df['Anzahl_Paper'].mean() * 100):.1f}%\")"
   ]
  },
  {
   "cell_type": "markdown",
   "id": "b16c02ea",
   "metadata": {},
   "source": [
    "### Korrelationsanalyse"
   ]
  },
  {
   "cell_type": "code",
   "execution_count": 62,
   "id": "b7a0d403",
   "metadata": {},
   "outputs": [],
   "source": [
    "# Interpretation der Korrelationsstärke\n",
    "def interpret_correlation(r):\n",
    "    abs_r = abs(r)\n",
    "    if abs_r < 0.1:\n",
    "        return \"Vernachlässigbar\"\n",
    "    elif abs_r < 0.3:\n",
    "        return \"Schwach\"\n",
    "    elif abs_r < 0.5:\n",
    "        return \"Moderat\"\n",
    "    elif abs_r < 0.7:\n",
    "        return \"Stark\"\n",
    "    else:\n",
    "        return \"Sehr stark\"\n",
    "    \n",
    "def interpret_significance(p):\n",
    "    if p < 0.05:\n",
    "        return \"Signifikant\"\n",
    "    else:\n",
    "        return \"Nicht signifikant\""
   ]
  },
  {
   "cell_type": "code",
   "execution_count": 63,
   "id": "29fe0447",
   "metadata": {},
   "outputs": [
    {
     "name": "stdout",
     "output_type": "stream",
     "text": [
      "Pearson-Korrelation: r = 0.9708\n",
      "P-Wert (Pearson): 0.000000\n",
      "Signifikanz (α=0.05): Signifikant\n"
     ]
    }
   ],
   "source": [
    "# Pearson-Korrelation\n",
    "pearson_corr, pearson_p = stats.pearsonr(df['Investitionen_Mrd'], df['Anzahl_Paper'])\n",
    "print(f\"Pearson-Korrelation: r = {pearson_corr:.4f}\")\n",
    "print(f\"P-Wert (Pearson): {pearson_p:.6f}\")\n",
    "print(f\"Signifikanz (α=0.05): {interpret_significance(pearson_p)}\")"
   ]
  },
  {
   "cell_type": "code",
   "execution_count": 64,
   "id": "83cf29a6",
   "metadata": {},
   "outputs": [
    {
     "name": "stdout",
     "output_type": "stream",
     "text": [
      "Spearman-Korrelation: ρ = 0.9896\n",
      "P-Wert (Spearman): 0.000000\n",
      "Signifikanz (α=0.05): Signifikant\n"
     ]
    }
   ],
   "source": [
    "# Spearman-Korrelation (rang-basiert, robuster)\n",
    "spearman_corr, spearman_p = stats.spearmanr(df['Investitionen_Mrd'], df['Anzahl_Paper'])\n",
    "print(f\"Spearman-Korrelation: ρ = {spearman_corr:.4f}\")\n",
    "print(f\"P-Wert (Spearman): {spearman_p:.6f}\")\n",
    "print(f\"Signifikanz (α=0.05): {interpret_significance(spearman_p)}\")"
   ]
  },
  {
   "cell_type": "code",
   "execution_count": 65,
   "id": "5c0962a0",
   "metadata": {},
   "outputs": [
    {
     "name": "stdout",
     "output_type": "stream",
     "text": [
      "Korrelationsstärke (Pearson): Sehr stark\n",
      "Korrelationsstärke (Spearman): Sehr stark\n"
     ]
    }
   ],
   "source": [
    "print(f\"Korrelationsstärke (Pearson): {interpret_correlation(pearson_corr)}\")\n",
    "print(f\"Korrelationsstärke (Spearman): {interpret_correlation(spearman_corr)}\")"
   ]
  },
  {
   "cell_type": "markdown",
   "id": "87b50cf3",
   "metadata": {},
   "source": [
    "### Regressionsanalyse"
   ]
  },
  {
   "cell_type": "code",
   "execution_count": 66,
   "id": "3feebd8b",
   "metadata": {},
   "outputs": [
    {
     "data": {
      "text/html": [
       "<table class=\"simpletable\">\n",
       "<caption>OLS Regression Results</caption>\n",
       "<tr>\n",
       "  <th>Dep. Variable:</th>            <td>y</td>        <th>  R-squared:         </th> <td>   0.942</td>\n",
       "</tr>\n",
       "<tr>\n",
       "  <th>Model:</th>                   <td>OLS</td>       <th>  Adj. R-squared:    </th> <td>   0.940</td>\n",
       "</tr>\n",
       "<tr>\n",
       "  <th>Method:</th>             <td>Least Squares</td>  <th>  F-statistic:       </th> <td>   359.7</td>\n",
       "</tr>\n",
       "<tr>\n",
       "  <th>Date:</th>             <td>Wed, 09 Jul 2025</td> <th>  Prob (F-statistic):</th> <td>4.03e-15</td>\n",
       "</tr>\n",
       "<tr>\n",
       "  <th>Time:</th>                 <td>14:21:22</td>     <th>  Log-Likelihood:    </th> <td> -311.97</td>\n",
       "</tr>\n",
       "<tr>\n",
       "  <th>No. Observations:</th>      <td>    24</td>      <th>  AIC:               </th> <td>   627.9</td>\n",
       "</tr>\n",
       "<tr>\n",
       "  <th>Df Residuals:</th>          <td>    22</td>      <th>  BIC:               </th> <td>   630.3</td>\n",
       "</tr>\n",
       "<tr>\n",
       "  <th>Df Model:</th>              <td>     1</td>      <th>                     </th>     <td> </td>   \n",
       "</tr>\n",
       "<tr>\n",
       "  <th>Covariance Type:</th>      <td>nonrobust</td>    <th>                     </th>     <td> </td>   \n",
       "</tr>\n",
       "</table>\n",
       "<table class=\"simpletable\">\n",
       "<tr>\n",
       "    <td></td>       <th>coef</th>     <th>std err</th>      <th>t</th>      <th>P>|t|</th>  <th>[0.025</th>    <th>0.975]</th>  \n",
       "</tr>\n",
       "<tr>\n",
       "  <th>const</th> <td>-2.718e+05</td> <td> 8.16e+04</td> <td>   -3.329</td> <td> 0.003</td> <td>-4.41e+05</td> <td>-1.02e+05</td>\n",
       "</tr>\n",
       "<tr>\n",
       "  <th>x1</th>    <td> 6279.2413</td> <td>  331.089</td> <td>   18.965</td> <td> 0.000</td> <td> 5592.605</td> <td> 6965.878</td>\n",
       "</tr>\n",
       "</table>\n",
       "<table class=\"simpletable\">\n",
       "<tr>\n",
       "  <th>Omnibus:</th>       <td> 8.566</td> <th>  Durbin-Watson:     </th> <td>   0.689</td>\n",
       "</tr>\n",
       "<tr>\n",
       "  <th>Prob(Omnibus):</th> <td> 0.014</td> <th>  Jarque-Bera (JB):  </th> <td>   6.700</td>\n",
       "</tr>\n",
       "<tr>\n",
       "  <th>Skew:</th>          <td>-0.942</td> <th>  Prob(JB):          </th> <td>  0.0351</td>\n",
       "</tr>\n",
       "<tr>\n",
       "  <th>Kurtosis:</th>      <td> 4.774</td> <th>  Cond. No.          </th> <td>    883.</td>\n",
       "</tr>\n",
       "</table><br/><br/>Notes:<br/>[1] Standard Errors assume that the covariance matrix of the errors is correctly specified."
      ],
      "text/latex": [
       "\\begin{center}\n",
       "\\begin{tabular}{lclc}\n",
       "\\toprule\n",
       "\\textbf{Dep. Variable:}    &        y         & \\textbf{  R-squared:         } &     0.942   \\\\\n",
       "\\textbf{Model:}            &       OLS        & \\textbf{  Adj. R-squared:    } &     0.940   \\\\\n",
       "\\textbf{Method:}           &  Least Squares   & \\textbf{  F-statistic:       } &     359.7   \\\\\n",
       "\\textbf{Date:}             & Wed, 09 Jul 2025 & \\textbf{  Prob (F-statistic):} &  4.03e-15   \\\\\n",
       "\\textbf{Time:}             &     14:21:22     & \\textbf{  Log-Likelihood:    } &   -311.97   \\\\\n",
       "\\textbf{No. Observations:} &          24      & \\textbf{  AIC:               } &     627.9   \\\\\n",
       "\\textbf{Df Residuals:}     &          22      & \\textbf{  BIC:               } &     630.3   \\\\\n",
       "\\textbf{Df Model:}         &           1      & \\textbf{                     } &             \\\\\n",
       "\\textbf{Covariance Type:}  &    nonrobust     & \\textbf{                     } &             \\\\\n",
       "\\bottomrule\n",
       "\\end{tabular}\n",
       "\\begin{tabular}{lcccccc}\n",
       "               & \\textbf{coef} & \\textbf{std err} & \\textbf{t} & \\textbf{P$> |$t$|$} & \\textbf{[0.025} & \\textbf{0.975]}  \\\\\n",
       "\\midrule\n",
       "\\textbf{const} &   -2.718e+05  &     8.16e+04     &    -3.329  &         0.003        &    -4.41e+05    &    -1.02e+05     \\\\\n",
       "\\textbf{x1}    &    6279.2413  &      331.089     &    18.965  &         0.000        &     5592.605    &     6965.878     \\\\\n",
       "\\bottomrule\n",
       "\\end{tabular}\n",
       "\\begin{tabular}{lclc}\n",
       "\\textbf{Omnibus:}       &  8.566 & \\textbf{  Durbin-Watson:     } &    0.689  \\\\\n",
       "\\textbf{Prob(Omnibus):} &  0.014 & \\textbf{  Jarque-Bera (JB):  } &    6.700  \\\\\n",
       "\\textbf{Skew:}          & -0.942 & \\textbf{  Prob(JB):          } &   0.0351  \\\\\n",
       "\\textbf{Kurtosis:}      &  4.774 & \\textbf{  Cond. No.          } &     883.  \\\\\n",
       "\\bottomrule\n",
       "\\end{tabular}\n",
       "%\\caption{OLS Regression Results}\n",
       "\\end{center}\n",
       "\n",
       "Notes: \\newline\n",
       " [1] Standard Errors assume that the covariance matrix of the errors is correctly specified."
      ],
      "text/plain": [
       "<class 'statsmodels.iolib.summary.Summary'>\n",
       "\"\"\"\n",
       "                            OLS Regression Results                            \n",
       "==============================================================================\n",
       "Dep. Variable:                      y   R-squared:                       0.942\n",
       "Model:                            OLS   Adj. R-squared:                  0.940\n",
       "Method:                 Least Squares   F-statistic:                     359.7\n",
       "Date:                Wed, 09 Jul 2025   Prob (F-statistic):           4.03e-15\n",
       "Time:                        14:21:22   Log-Likelihood:                -311.97\n",
       "No. Observations:                  24   AIC:                             627.9\n",
       "Df Residuals:                      22   BIC:                             630.3\n",
       "Df Model:                           1                                         \n",
       "Covariance Type:            nonrobust                                         \n",
       "==============================================================================\n",
       "                 coef    std err          t      P>|t|      [0.025      0.975]\n",
       "------------------------------------------------------------------------------\n",
       "const      -2.718e+05   8.16e+04     -3.329      0.003   -4.41e+05   -1.02e+05\n",
       "x1          6279.2413    331.089     18.965      0.000    5592.605    6965.878\n",
       "==============================================================================\n",
       "Omnibus:                        8.566   Durbin-Watson:                   0.689\n",
       "Prob(Omnibus):                  0.014   Jarque-Bera (JB):                6.700\n",
       "Skew:                          -0.942   Prob(JB):                       0.0351\n",
       "Kurtosis:                       4.774   Cond. No.                         883.\n",
       "==============================================================================\n",
       "\n",
       "Notes:\n",
       "[1] Standard Errors assume that the covariance matrix of the errors is correctly specified.\n",
       "\"\"\""
      ]
     },
     "metadata": {},
     "output_type": "display_data"
    }
   ],
   "source": [
    "# Einfache lineare Regression\n",
    "X = df['Investitionen_Mrd'].values.reshape(-1, 1)\n",
    "y = df['Anzahl_Paper'].values\n",
    "\n",
    "# Konstante hinzufügen für den Intercept\n",
    "X_fit = sm.add_constant(X)\n",
    "\n",
    "model = sm.OLS(y, X_fit)\n",
    "results = model.fit()\n",
    "display(results.summary())\n"
   ]
  },
  {
   "cell_type": "code",
   "execution_count": 67,
   "id": "8c621d47",
   "metadata": {},
   "outputs": [
    {
     "name": "stdout",
     "output_type": "stream",
     "text": [
      "R² (Bestimmtheitsmaß): 0.9424\n",
      "Erklärte Varianz: 94.2%\n"
     ]
    }
   ],
   "source": [
    "# R-squared (Bestimmtheitsmaß)\n",
    "r2 = results.rsquared\n",
    "print(f\"R² (Bestimmtheitsmaß): {r2:.4f}\")\n",
    "print(f\"Erklärte Varianz: {r2*100:.1f}%\")"
   ]
  },
  {
   "cell_type": "code",
   "execution_count": 68,
   "id": "394457a6",
   "metadata": {},
   "outputs": [
    {
     "name": "stdout",
     "output_type": "stream",
     "text": [
      "Achsenabschnitt (β₀): -271809.52\n",
      "Steigung (β₁): 6279.24\n",
      "Interpretation: Pro 1 Mrd € mehr Investition → 6279 mehr Publikationen\n"
     ]
    }
   ],
   "source": [
    "# Regressionskoeffizienten\n",
    "print(f\"Achsenabschnitt (β₀): {results.params[0]:.2f}\")\n",
    "print(f\"Steigung (β₁): {results.params[1]:.2f}\")\n",
    "print(f\"Interpretation: Pro 1 Mrd € mehr Investition → {results.params[1]:.0f} mehr Publikationen\")"
   ]
  },
  {
   "cell_type": "code",
   "execution_count": 69,
   "id": "75882f00",
   "metadata": {},
   "outputs": [
    {
     "name": "stdout",
     "output_type": "stream",
     "text": [
      "Mittlerer quadratischer Fehler (MSE): 11432006273\n",
      "Wurzel des mittleren quadratischen Fehlers (RMSE): 106921\n",
      "Mittlerer absoluter Fehler (MAE): 78534\n"
     ]
    }
   ],
   "source": [
    "# Residuen-Analyse\n",
    "residuals = results.resid\n",
    "mse = np.mean(residuals**2)\n",
    "rmse = np.sqrt(mse)\n",
    "mae = np.mean(np.abs(residuals))\n",
    "\n",
    "print(f\"Mittlerer quadratischer Fehler (MSE): {mse:.0f}\")\n",
    "print(f\"Wurzel des mittleren quadratischen Fehlers (RMSE): {rmse:.0f}\")\n",
    "print(f\"Mittlerer absoluter Fehler (MAE): {mae:.0f}\")"
   ]
  },
  {
   "cell_type": "markdown",
   "id": "d0792a9f",
   "metadata": {},
   "source": [
    "### Trend Analyse"
   ]
  },
  {
   "cell_type": "code",
   "execution_count": 70,
   "id": "d8251509",
   "metadata": {},
   "outputs": [
    {
     "name": "stdout",
     "output_type": "stream",
     "text": [
      "Investitionstrend:\n",
      "    Jährliche Änderung: 9.812 Mrd €/Jahr\n",
      "    R²: 0.9732\n",
      "    P-Wert: 0.000000\n",
      "    Trend: Signifikant steigend\n"
     ]
    }
   ],
   "source": [
    "# Zeittrend für Investitionen\n",
    "years = df['Jahr'].values\n",
    "inv_slope, inv_intercept, inv_r, inv_p, inv_stderr = stats.linregress(years, df['Investitionen_Mrd'])\n",
    "print(f\"Investitionstrend:\")\n",
    "print(f\"    Jährliche Änderung: {inv_slope:.3f} Mrd €/Jahr\")\n",
    "print(f\"    R²: {inv_r**2:.4f}\")\n",
    "print(f\"    P-Wert: {inv_p:.6f}\")\n",
    "print(f\"    Trend: {'Signifikant steigend' if inv_p < 0.05 and inv_slope > 0 else 'Signifikant fallend' if inv_p < 0.05 and inv_slope < 0 else 'Kein signifikanter Trend'}\")"
   ]
  },
  {
   "cell_type": "code",
   "execution_count": 71,
   "id": "51994266",
   "metadata": {},
   "outputs": [
    {
     "name": "stdout",
     "output_type": "stream",
     "text": [
      "Publikationstrend:\n",
      "    Jährliche Änderung: 63908 Publikationen/Jahr\n",
      "    R²: 0.9867\n",
      "    P-Wert: 0.000000\n",
      "    Trend: Signifikant steigend\n"
     ]
    }
   ],
   "source": [
    "# Zeittrend für Publikationen\n",
    "pub_slope, pub_intercept, pub_r, pub_p, pub_stderr = stats.linregress(years, df['Anzahl_Paper'])\n",
    "print(f\"Publikationstrend:\")\n",
    "print(f\"    Jährliche Änderung: {pub_slope:.0f} Publikationen/Jahr\")\n",
    "print(f\"    R²: {pub_r**2:.4f}\")\n",
    "print(f\"    P-Wert: {pub_p:.6f}\")\n",
    "print(f\"    Trend: {'Signifikant steigend' if pub_p < 0.05 and pub_slope > 0 else 'Signifikant fallend' if pub_p < 0.05 and pub_slope < 0 else 'Kein signifikanter Trend'}\")"
   ]
  },
  {
   "cell_type": "markdown",
   "id": "fa06bce0",
   "metadata": {},
   "source": [
    "### Effizienzkennzahlen"
   ]
  },
  {
   "cell_type": "code",
   "execution_count": 72,
   "id": "cefeefd7",
   "metadata": {},
   "outputs": [],
   "source": [
    "df_analysis = df.copy(deep=True)"
   ]
  },
  {
   "cell_type": "code",
   "execution_count": 73,
   "id": "bb6e99a3",
   "metadata": {},
   "outputs": [
    {
     "name": "stdout",
     "output_type": "stream",
     "text": [
      "Publikationen pro Mrd € Investition:\n",
      "    Mittelwert: 5007\n",
      "    Median: 5025\n",
      "    Standardabweichung: 620\n",
      "    Min: 3687 (Jahr 2001)\n",
      "    Max: 6063 (Jahr 2020)\n"
     ]
    }
   ],
   "source": [
    "# Publikationen pro Milliarde Euro\n",
    "df_analysis['Pub_pro_Mrd'] = df_analysis['Anzahl_Paper'] / df_analysis['Investitionen_Mrd']\n",
    "\n",
    "print(f\"Publikationen pro Mrd € Investition:\")\n",
    "print(f\"    Mittelwert: {df_analysis['Pub_pro_Mrd'].mean():.0f}\")\n",
    "print(f\"    Median: {df_analysis['Pub_pro_Mrd'].median():.0f}\")\n",
    "print(f\"    Standardabweichung: {df_analysis['Pub_pro_Mrd'].std():.0f}\")\n",
    "print(f\"    Min: {df_analysis['Pub_pro_Mrd'].min():.0f} (Jahr {df_analysis.loc[df_analysis['Pub_pro_Mrd'].idxmin(), 'Jahr']:.0f})\")\n",
    "print(f\"    Max: {df_analysis['Pub_pro_Mrd'].max():.0f} (Jahr {df_analysis.loc[df_analysis['Pub_pro_Mrd'].idxmax(), 'Jahr']:.0f})\")"
   ]
  },
  {
   "cell_type": "code",
   "execution_count": 74,
   "id": "7e4894da",
   "metadata": {},
   "outputs": [
    {
     "name": "stdout",
     "output_type": "stream",
     "text": [
      "Durchschnittliche jährliche Wachstumsraten:\n",
      "    Investitionen: 4.9% ± 3.7%\n",
      "    Publikationen: 5.6% ± 4.6%\n"
     ]
    }
   ],
   "source": [
    "# Wachstumsraten\n",
    "df_analysis['Inv_growth'] = df_analysis['Investitionen_Mrd'].pct_change() * 100\n",
    "df_analysis['Pub_growth'] = df_analysis['Anzahl_Paper'].pct_change() * 100\n",
    "\n",
    "print(f\"Durchschnittliche jährliche Wachstumsraten:\")\n",
    "print(f\"    Investitionen: {df_analysis['Inv_growth'].mean():.1f}% ± {df_analysis['Inv_growth'].std():.1f}%\")\n",
    "print(f\"    Publikationen: {df_analysis['Pub_growth'].mean():.1f}% ± {df_analysis['Pub_growth'].std():.1f}%\")"
   ]
  },
  {
   "cell_type": "code",
   "execution_count": 75,
   "id": "8d43c581",
   "metadata": {},
   "outputs": [
    {
     "name": "stdout",
     "output_type": "stream",
     "text": [
      "Korrelation der Wachstumsraten: r = -0.5975 | p = 0.0026\n"
     ]
    }
   ],
   "source": [
    "# Korrelation der Wachstumsraten\n",
    "growth_corr, growth_p = stats.pearsonr(df_analysis['Inv_growth'].dropna(), df_analysis['Pub_growth'].dropna())\n",
    "print(f\"Korrelation der Wachstumsraten: r = {growth_corr:.4f} | p = {growth_p:.4f}\")"
   ]
  },
  {
   "cell_type": "markdown",
   "id": "c26fd0bf",
   "metadata": {},
   "source": [
    "### Zusätzliche Tests"
   ]
  },
  {
   "cell_type": "code",
   "execution_count": 76,
   "id": "d98fd0c0",
   "metadata": {},
   "outputs": [
    {
     "name": "stdout",
     "output_type": "stream",
     "text": [
      "Normalverteilungstest (Shapiro-Wilk):\n",
      "    Investitionen: W = 0.9669 | p = 0.590850\n",
      "    Publikationen: W = 0.9393 | p = 0.157022\n",
      "    Normalverteilt (α=0.05): Inv: Ja, Pub: Ja\n"
     ]
    }
   ],
   "source": [
    "# Shapiro-Wilk Test für Normalverteilung\n",
    "shapiro_inv = stats.shapiro(df['Investitionen_Mrd'])\n",
    "shapiro_pub = stats.shapiro(df['Anzahl_Paper'])\n",
    "\n",
    "print(f\"Normalverteilungstest (Shapiro-Wilk):\")\n",
    "print(f\"    Investitionen: W = {shapiro_inv.statistic:.4f} | p = {shapiro_inv.pvalue:.6f}\")\n",
    "print(f\"    Publikationen: W = {shapiro_pub.statistic:.4f} | p = {shapiro_pub.pvalue:.6f}\")\n",
    "print(f\"    Normalverteilt (α=0.05): Inv: {'Ja' if shapiro_inv.pvalue > 0.05 else 'Nein'}, Pub: {'Ja' if shapiro_pub.pvalue > 0.05 else 'Nein'}\")"
   ]
  },
  {
   "cell_type": "code",
   "execution_count": 77,
   "id": "49d1fa93",
   "metadata": {},
   "outputs": [
    {
     "name": "stdout",
     "output_type": "stream",
     "text": [
      "Jarque-Bera Test:\n",
      "    Investitionen: JB = 1.1496 | p = 0.562828\n",
      "    Publikationen: JB = 1.7621 | p = 0.414357\n"
     ]
    }
   ],
   "source": [
    "# Jarque-Bera Test (alternative für Normalverteilung)\n",
    "if len(df) >= 8:  # Mindestanforderung für Jarque-Bera\n",
    "    from scipy.stats import jarque_bera\n",
    "    jb_inv = jarque_bera(df['Investitionen_Mrd'])\n",
    "    jb_pub = jarque_bera(df['Anzahl_Paper'])\n",
    "    print(f\"Jarque-Bera Test:\")\n",
    "    print(f\"    Investitionen: JB = {jb_inv.statistic:.4f} | p = {jb_inv.pvalue:.6f}\")\n",
    "    print(f\"    Publikationen: JB = {jb_pub.statistic:.4f} | p = {jb_pub.pvalue:.6f}\")"
   ]
  },
  {
   "cell_type": "markdown",
   "id": "d6a7d384",
   "metadata": {},
   "source": [
    "### Zusammenfassung"
   ]
  },
  {
   "cell_type": "code",
   "execution_count": 78,
   "id": "a46cfc14",
   "metadata": {},
   "outputs": [
    {
     "name": "stdout",
     "output_type": "stream",
     "text": [
      "Korrelation: 0.971 (stark)\n",
      "Bestimmtheitsmaß: 0.942 (94.2% erklärte Varianz)\n",
      "Investitionstrend: 9.812 Mrd €/Jahr (↗)\n",
      "Publikationstrend: 63908 Papers/Jahr (↗)\n",
      "Durchschnittliche Effizienz: 5007 Publikationen/Mrd €\n"
     ]
    }
   ],
   "source": [
    "print(f\"Korrelation: {pearson_corr:.3f} ({'stark' if abs(pearson_corr) > 0.7 else 'moderat' if abs(pearson_corr) > 0.5 else 'schwach'})\")\n",
    "print(f\"Bestimmtheitsmaß: {r2:.3f} ({r2*100:.1f}% erklärte Varianz)\")\n",
    "print(f\"Investitionstrend: {inv_slope:.3f} Mrd €/Jahr ({'↗' if inv_slope > 0 else '↘'})\")\n",
    "print(f\"Publikationstrend: {pub_slope:.0f} Papers/Jahr ({'↗' if pub_slope > 0 else '↘'})\")\n",
    "print(f\"Durchschnittliche Effizienz: {df_analysis['Pub_pro_Mrd'].mean():.0f} Publikationen/Mrd €\")"
   ]
  }
 ],
 "metadata": {
  "kernelspec": {
   "display_name": ".venv",
   "language": "python",
   "name": "python3"
  },
  "language_info": {
   "codemirror_mode": {
    "name": "ipython",
    "version": 3
   },
   "file_extension": ".py",
   "mimetype": "text/x-python",
   "name": "python",
   "nbconvert_exporter": "python",
   "pygments_lexer": "ipython3",
   "version": "3.11.9"
  }
 },
 "nbformat": 4,
 "nbformat_minor": 5
}
