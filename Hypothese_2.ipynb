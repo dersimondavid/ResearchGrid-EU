{
 "cells": [
  {
   "cell_type": "markdown",
   "id": "83479cfc",
   "metadata": {},
   "source": [
    "# Hypothese 2"
   ]
  },
  {
   "cell_type": "code",
   "execution_count": 687,
   "id": "e60c376b",
   "metadata": {},
   "outputs": [],
   "source": [
    "import gc\n",
    "from collections import Counter\n",
    "\n",
    "import matplotlib.pyplot as plt\n",
    "import numpy as np\n",
    "import pandas as pd\n",
    "import plotly.express as px\n",
    "import plotly.graph_objects as go\n",
    "import pyarrow.parquet as pq\n",
    "import scipy.stats as stats\n",
    "from sklearn.linear_model import LinearRegression"
   ]
  },
  {
   "cell_type": "markdown",
   "id": "cbbe9118",
   "metadata": {},
   "source": [
    "## Daten einlesen"
   ]
  },
  {
   "cell_type": "code",
   "execution_count": 688,
   "id": "d8bffa72",
   "metadata": {},
   "outputs": [
    {
     "data": {
      "text/html": [
       "<div>\n",
       "<style scoped>\n",
       "    .dataframe tbody tr th:only-of-type {\n",
       "        vertical-align: middle;\n",
       "    }\n",
       "\n",
       "    .dataframe tbody tr th {\n",
       "        vertical-align: top;\n",
       "    }\n",
       "\n",
       "    .dataframe thead th {\n",
       "        text-align: right;\n",
       "    }\n",
       "</style>\n",
       "<table border=\"1\" class=\"dataframe\">\n",
       "  <thead>\n",
       "    <tr style=\"text-align: right;\">\n",
       "      <th></th>\n",
       "      <th>Land</th>\n",
       "      <th>Jahr</th>\n",
       "      <th>Betrag in Mio. Euro</th>\n",
       "    </tr>\n",
       "  </thead>\n",
       "  <tbody>\n",
       "    <tr>\n",
       "      <th>0</th>\n",
       "      <td>Österreich</td>\n",
       "      <td>2000</td>\n",
       "      <td>4028.670</td>\n",
       "    </tr>\n",
       "    <tr>\n",
       "      <th>1</th>\n",
       "      <td>Österreich</td>\n",
       "      <td>2001</td>\n",
       "      <td>4393.090</td>\n",
       "    </tr>\n",
       "    <tr>\n",
       "      <th>2</th>\n",
       "      <td>Österreich</td>\n",
       "      <td>2002</td>\n",
       "      <td>4684.313</td>\n",
       "    </tr>\n",
       "    <tr>\n",
       "      <th>3</th>\n",
       "      <td>Österreich</td>\n",
       "      <td>2003</td>\n",
       "      <td>5041.980</td>\n",
       "    </tr>\n",
       "    <tr>\n",
       "      <th>4</th>\n",
       "      <td>Österreich</td>\n",
       "      <td>2004</td>\n",
       "      <td>5249.546</td>\n",
       "    </tr>\n",
       "  </tbody>\n",
       "</table>\n",
       "</div>"
      ],
      "text/plain": [
       "         Land  Jahr  Betrag in Mio. Euro\n",
       "0  Österreich  2000             4028.670\n",
       "1  Österreich  2001             4393.090\n",
       "2  Österreich  2002             4684.313\n",
       "3  Österreich  2003             5041.980\n",
       "4  Österreich  2004             5249.546"
      ]
     },
     "execution_count": 688,
     "metadata": {},
     "output_type": "execute_result"
    }
   ],
   "source": [
    "Eurostat_Investitionen = pd.read_csv('data/input/Eurostat_Investitionen.csv')\n",
    "Eurostat_Investitionen.head(5)"
   ]
  },
  {
   "cell_type": "code",
   "execution_count": 689,
   "id": "8f03ce9f",
   "metadata": {},
   "outputs": [
    {
     "data": {
      "text/html": [
       "<div>\n",
       "<style scoped>\n",
       "    .dataframe tbody tr th:only-of-type {\n",
       "        vertical-align: middle;\n",
       "    }\n",
       "\n",
       "    .dataframe tbody tr th {\n",
       "        vertical-align: top;\n",
       "    }\n",
       "\n",
       "    .dataframe thead th {\n",
       "        text-align: right;\n",
       "    }\n",
       "</style>\n",
       "<table border=\"1\" class=\"dataframe\">\n",
       "  <thead>\n",
       "    <tr style=\"text-align: right;\">\n",
       "      <th></th>\n",
       "      <th>Land</th>\n",
       "      <th>Betrag in Mio. Euro</th>\n",
       "    </tr>\n",
       "  </thead>\n",
       "  <tbody>\n",
       "    <tr>\n",
       "      <th>0</th>\n",
       "      <td>Belgien</td>\n",
       "      <td>233201.336</td>\n",
       "    </tr>\n",
       "    <tr>\n",
       "      <th>1</th>\n",
       "      <td>Bulgarien</td>\n",
       "      <td>7031.177</td>\n",
       "    </tr>\n",
       "    <tr>\n",
       "      <th>2</th>\n",
       "      <td>Deutschland</td>\n",
       "      <td>1931488.613</td>\n",
       "    </tr>\n",
       "    <tr>\n",
       "      <th>3</th>\n",
       "      <td>Dänemark</td>\n",
       "      <td>174858.568</td>\n",
       "    </tr>\n",
       "    <tr>\n",
       "      <th>4</th>\n",
       "      <td>Estland</td>\n",
       "      <td>6807.736</td>\n",
       "    </tr>\n",
       "    <tr>\n",
       "      <th>5</th>\n",
       "      <td>Finnland</td>\n",
       "      <td>151550.979</td>\n",
       "    </tr>\n",
       "    <tr>\n",
       "      <th>6</th>\n",
       "      <td>Frankreich</td>\n",
       "      <td>1079692.751</td>\n",
       "    </tr>\n",
       "    <tr>\n",
       "      <th>7</th>\n",
       "      <td>Griechenland</td>\n",
       "      <td>38278.200</td>\n",
       "    </tr>\n",
       "    <tr>\n",
       "      <th>8</th>\n",
       "      <td>Irland</td>\n",
       "      <td>76188.240</td>\n",
       "    </tr>\n",
       "    <tr>\n",
       "      <th>9</th>\n",
       "      <td>Italien</td>\n",
       "      <td>489078.712</td>\n",
       "    </tr>\n",
       "    <tr>\n",
       "      <th>10</th>\n",
       "      <td>Kroatien</td>\n",
       "      <td>10064.905</td>\n",
       "    </tr>\n",
       "    <tr>\n",
       "      <th>11</th>\n",
       "      <td>Lettland</td>\n",
       "      <td>3305.381</td>\n",
       "    </tr>\n",
       "    <tr>\n",
       "      <th>12</th>\n",
       "      <td>Litauen</td>\n",
       "      <td>7762.398</td>\n",
       "    </tr>\n",
       "    <tr>\n",
       "      <th>13</th>\n",
       "      <td>Luxemburg</td>\n",
       "      <td>13787.775</td>\n",
       "    </tr>\n",
       "    <tr>\n",
       "      <th>14</th>\n",
       "      <td>Malta</td>\n",
       "      <td>1240.332</td>\n",
       "    </tr>\n",
       "    <tr>\n",
       "      <th>15</th>\n",
       "      <td>Niederlande</td>\n",
       "      <td>323865.277</td>\n",
       "    </tr>\n",
       "    <tr>\n",
       "      <th>16</th>\n",
       "      <td>Polen</td>\n",
       "      <td>94100.105</td>\n",
       "    </tr>\n",
       "    <tr>\n",
       "      <th>17</th>\n",
       "      <td>Portugal</td>\n",
       "      <td>55855.699</td>\n",
       "    </tr>\n",
       "    <tr>\n",
       "      <th>18</th>\n",
       "      <td>Rumänien</td>\n",
       "      <td>16528.163</td>\n",
       "    </tr>\n",
       "    <tr>\n",
       "      <th>19</th>\n",
       "      <td>Schweden</td>\n",
       "      <td>306923.503</td>\n",
       "    </tr>\n",
       "    <tr>\n",
       "      <th>20</th>\n",
       "      <td>Slowakei</td>\n",
       "      <td>12761.997</td>\n",
       "    </tr>\n",
       "    <tr>\n",
       "      <th>21</th>\n",
       "      <td>Slowenien</td>\n",
       "      <td>17801.141</td>\n",
       "    </tr>\n",
       "    <tr>\n",
       "      <th>22</th>\n",
       "      <td>Spanien</td>\n",
       "      <td>314667.081</td>\n",
       "    </tr>\n",
       "    <tr>\n",
       "      <th>23</th>\n",
       "      <td>Tschechien</td>\n",
       "      <td>65081.122</td>\n",
       "    </tr>\n",
       "    <tr>\n",
       "      <th>24</th>\n",
       "      <td>Ungarn</td>\n",
       "      <td>32917.115</td>\n",
       "    </tr>\n",
       "    <tr>\n",
       "      <th>25</th>\n",
       "      <td>Zypern</td>\n",
       "      <td>2352.901</td>\n",
       "    </tr>\n",
       "    <tr>\n",
       "      <th>26</th>\n",
       "      <td>Österreich</td>\n",
       "      <td>215647.321</td>\n",
       "    </tr>\n",
       "  </tbody>\n",
       "</table>\n",
       "</div>"
      ],
      "text/plain": [
       "            Land  Betrag in Mio. Euro\n",
       "0        Belgien           233201.336\n",
       "1      Bulgarien             7031.177\n",
       "2    Deutschland          1931488.613\n",
       "3       Dänemark           174858.568\n",
       "4        Estland             6807.736\n",
       "5       Finnland           151550.979\n",
       "6     Frankreich          1079692.751\n",
       "7   Griechenland            38278.200\n",
       "8         Irland            76188.240\n",
       "9        Italien           489078.712\n",
       "10      Kroatien            10064.905\n",
       "11      Lettland             3305.381\n",
       "12       Litauen             7762.398\n",
       "13     Luxemburg            13787.775\n",
       "14         Malta             1240.332\n",
       "15   Niederlande           323865.277\n",
       "16         Polen            94100.105\n",
       "17      Portugal            55855.699\n",
       "18      Rumänien            16528.163\n",
       "19      Schweden           306923.503\n",
       "20      Slowakei            12761.997\n",
       "21     Slowenien            17801.141\n",
       "22       Spanien           314667.081\n",
       "23    Tschechien            65081.122\n",
       "24        Ungarn            32917.115\n",
       "25        Zypern             2352.901\n",
       "26    Österreich           215647.321"
      ]
     },
     "execution_count": 689,
     "metadata": {},
     "output_type": "execute_result"
    }
   ],
   "source": [
    "Investitionssummen_Länder = Eurostat_Investitionen.groupby('Land')['Betrag in Mio. Euro'].sum().reset_index()\n",
    "Investitionssummen_Länder.head(27)"
   ]
  },
  {
   "cell_type": "code",
   "execution_count": 690,
   "id": "d80d4331",
   "metadata": {},
   "outputs": [
    {
     "name": "stdout",
     "output_type": "stream",
     "text": [
      "Anzahl Zeilen: 16,751,942\n",
      "Anzahl Spalten: 9\n",
      "Anzahl Row Groups: 16\n"
     ]
    }
   ],
   "source": [
    "parquet_file = \"data/input//Data_OpenAlex.parquet\"\n",
    "parquet_dataset = pq.ParquetFile(parquet_file)\n",
    "\n",
    "print(f\"Anzahl Zeilen: {parquet_dataset.metadata.num_rows:,}\")\n",
    "print(f\"Anzahl Spalten: {parquet_dataset.metadata.num_columns}\")\n",
    "print(f\"Anzahl Row Groups: {parquet_dataset.num_row_groups}\")"
   ]
  },
  {
   "cell_type": "code",
   "execution_count": 691,
   "id": "d55e5431",
   "metadata": {},
   "outputs": [
    {
     "name": "stdout",
     "output_type": "stream",
     "text": [
      "\n",
      "Spalten in der Datei:\n",
      "   1. paper_id             (string)\n",
      "   2. doi                  (string)\n",
      "   3. fwci                 (float)\n",
      "   4. title                (string)\n",
      "   5. publication_year     (int16)\n",
      "   6. cited_by_count       (int32)\n",
      "   7. institution_count    (int16)\n",
      "   8. country_codes        (string)\n",
      "   9. institutions         (string)\n"
     ]
    }
   ],
   "source": [
    "# Zeige Spaltennamen\n",
    "print(f\"\\nSpalten in der Datei:\")\n",
    "schema = parquet_dataset.schema_arrow\n",
    "for i, field in enumerate(schema):\n",
    "    print(f\"  {i+1:2d}. {field.name:20s} ({field.type})\")"
   ]
  },
  {
   "cell_type": "code",
   "execution_count": 692,
   "id": "3b54ad29",
   "metadata": {},
   "outputs": [
    {
     "name": "stdout",
     "output_type": "stream",
     "text": [
      "Lade kleine Stichprobe (1000 Zeilen)\n",
      "Stichprobe geladen: 1000 Zeilen\n",
      "Beispiel country_codes:\n"
     ]
    }
   ],
   "source": [
    "print(f\"Lade kleine Stichprobe (1000 Zeilen)\")\n",
    "first_batch = parquet_dataset.read_row_group(0, columns=['country_codes']).to_pandas().head(1000)\n",
    "\n",
    "print(f\"Stichprobe geladen: {len(first_batch)} Zeilen\")\n",
    "print(f\"Beispiel country_codes:\")"
   ]
  },
  {
   "cell_type": "code",
   "execution_count": 693,
   "id": "abdce4d0",
   "metadata": {},
   "outputs": [
    {
     "name": "stdout",
     "output_type": "stream",
     "text": [
      "   1. FR,US\n",
      "   2. AU,CA,CH,GB,LB,NO,US,ZA\n",
      "   3. GB,US\n",
      "   4. DE,NZ,US\n",
      "   5. CH,DE,DK,ES,US\n",
      "   6. CH\n",
      "   7. AU,BE,CH,CZ,DE,ES,FI,FR,GB,IT,LU,NL,SE,TR\n",
      "   8. CH\n",
      "   9. AR,AU,BE,BR,CA,CH,DE,ES,FI,FR,GB,HU,IR,IT,MT,NL,NZ,PL,PT,SE,SI,TW,US\n",
      "  10. AU,BE,CH,DE,ES,FR,GB,IT,NO,PL,SE\n"
     ]
    }
   ],
   "source": [
    "sample_codes = first_batch['country_codes'].dropna().head(10)\n",
    "for i, code in enumerate(sample_codes, 1):\n",
    "    print(f\"  {i:2d}. {code}\")\n",
    "\n",
    "df_openalex_sample = first_batch"
   ]
  },
  {
   "cell_type": "markdown",
   "id": "20ada439",
   "metadata": {},
   "source": [
    "## Länder zählen"
   ]
  },
  {
   "cell_type": "code",
   "execution_count": 694,
   "id": "e2ec0ec3",
   "metadata": {},
   "outputs": [],
   "source": [
    "def count_countries_efficient(parquet_file, chunk_size=100000):\n",
    "    \"\"\"\n",
    "    Zählung der Länderhäufigkeiten in dem Dataset mit Chunking für geringeren Speicherbefarf\n",
    "    \"\"\"\n",
    "    country_counter = Counter()\n",
    "    total_papers = 0\n",
    "    \n",
    "    print(f\"Anzahl Row Groups: {parquet_dataset.num_row_groups}\")\n",
    "    print(f\"Chunk-Größe: {chunk_size:,} Zeilen\")\n",
    "    \n",
    "    # Verarbeite die Datei in Batches\n",
    "    for batch_idx, batch in enumerate(parquet_dataset.iter_batches(\n",
    "        batch_size=chunk_size, \n",
    "        columns=['country_codes']\n",
    "    )):\n",
    "        \n",
    "        # Konvertiere zu Pandas DataFrame\n",
    "        df_chunk = batch.to_pandas()\n",
    "        \n",
    "        for country_codes_str in df_chunk['country_codes']:\n",
    "            if pd.notna(country_codes_str) and country_codes_str:\n",
    "                # Splitte Ländercodes\n",
    "                if isinstance(country_codes_str, str):\n",
    "                    # Verschiedene Trennzeichen berücksichtigen\n",
    "                    countries = []\n",
    "                    for separator in [',', ';', '|', ' ']:\n",
    "                        if separator in country_codes_str:\n",
    "                            countries = [c.strip().upper() for c in country_codes_str.split(separator) if c.strip()]\n",
    "                            break\n",
    "                    \n",
    "                    # Falls keine Trennzeichen gefunden, als einzelnes Land behandeln\n",
    "                    if not countries:\n",
    "                        countries = [country_codes_str.strip().upper()]\n",
    "                    \n",
    "                    # Zähle jedes Land\n",
    "                    for country in countries:\n",
    "                        if country and len(country) <= 3:  # Filtere gültige Ländercodes\n",
    "                            country_counter[country] += 1\n",
    "        \n",
    "        total_papers += len(df_chunk)\n",
    "        \n",
    "        if (batch_idx + 1) % 10 == 0:\n",
    "            print(f\"Verarbeitet: {total_papers:,} Papers, {len(country_counter)} verschiedene Länder gefunden\")\n",
    "        \n",
    "        # Speicher freigeben\n",
    "        del df_chunk\n",
    "        gc.collect()\n",
    "    \n",
    "    print(f\"Total verarbeitete Papers: {total_papers:,}\")\n",
    "    print(f\"Verschiedene Länder gefunden: {len(country_counter)}\")\n",
    "    \n",
    "    return country_counter, total_papers"
   ]
  },
  {
   "cell_type": "code",
   "execution_count": 695,
   "id": "920ebd96",
   "metadata": {},
   "outputs": [
    {
     "name": "stdout",
     "output_type": "stream",
     "text": [
      "Starte Länderzählung...\n",
      "Anzahl Row Groups: 16\n",
      "Chunk-Größe: 100,000 Zeilen\n",
      "Verarbeitet: 1,000,000 Papers, 222 verschiedene Länder gefunden\n",
      "Verarbeitet: 2,000,000 Papers, 223 verschiedene Länder gefunden\n",
      "Verarbeitet: 3,000,000 Papers, 223 verschiedene Länder gefunden\n",
      "Verarbeitet: 4,000,000 Papers, 223 verschiedene Länder gefunden\n",
      "Verarbeitet: 5,000,000 Papers, 224 verschiedene Länder gefunden\n",
      "Verarbeitet: 6,000,000 Papers, 224 verschiedene Länder gefunden\n",
      "Verarbeitet: 7,000,000 Papers, 224 verschiedene Länder gefunden\n",
      "Verarbeitet: 8,000,000 Papers, 224 verschiedene Länder gefunden\n",
      "Verarbeitet: 9,000,000 Papers, 224 verschiedene Länder gefunden\n",
      "Verarbeitet: 10,000,000 Papers, 225 verschiedene Länder gefunden\n",
      "Verarbeitet: 11,000,000 Papers, 225 verschiedene Länder gefunden\n",
      "Verarbeitet: 12,000,000 Papers, 226 verschiedene Länder gefunden\n",
      "Verarbeitet: 13,000,000 Papers, 226 verschiedene Länder gefunden\n",
      "Verarbeitet: 14,000,000 Papers, 226 verschiedene Länder gefunden\n",
      "Verarbeitet: 15,000,000 Papers, 226 verschiedene Länder gefunden\n",
      "Verarbeitet: 16,000,000 Papers, 226 verschiedene Länder gefunden\n",
      "Total verarbeitete Papers: 16,751,942\n",
      "Verschiedene Länder gefunden: 226\n"
     ]
    }
   ],
   "source": [
    "# Starte die effiziente Verarbeitung\n",
    "print(\"Starte Länderzählung...\")\n",
    "country_counts, total_papers = count_countries_efficient(parquet_file)"
   ]
  },
  {
   "cell_type": "code",
   "execution_count": 696,
   "id": "81ae0dae",
   "metadata": {},
   "outputs": [
    {
     "name": "stdout",
     "output_type": "stream",
     "text": [
      "Top 20 Länder nach Anzahl Papers\n",
      " 1. GB : 3,057,191 Papers (18.25%)\n",
      " 2. DE : 2,684,903 Papers (16.03%)\n",
      " 3. FR : 2,340,240 Papers (13.97%)\n",
      " 4. US : 1,715,128 Papers (10.24%)\n",
      " 5. IT : 1,628,325 Papers (9.72%)\n",
      " 6. ES : 1,490,117 Papers (8.90%)\n",
      " 7. RU : 1,454,541 Papers (8.68%)\n",
      " 8. NL :  883,788 Papers (5.28%)\n",
      " 9. PL :  841,244 Papers (5.02%)\n",
      "10. CH :  700,694 Papers (4.18%)\n",
      "11. CN :  588,488 Papers (3.51%)\n",
      "12. SE :  565,233 Papers (3.37%)\n",
      "13. BE :  533,431 Papers (3.18%)\n",
      "14. PT :  429,884 Papers (2.57%)\n",
      "15. DK :  405,820 Papers (2.42%)\n",
      "16. AT :  383,322 Papers (2.29%)\n",
      "17. CA :  368,065 Papers (2.20%)\n",
      "18. UA :  367,879 Papers (2.20%)\n",
      "19. AU :  356,857 Papers (2.13%)\n",
      "20. NO :  333,833 Papers (1.99%)\n"
     ]
    }
   ],
   "source": [
    "print(f\"Top 20 Länder nach Anzahl Papers\")\n",
    "top_countries = country_counts.most_common(20)\n",
    "for rank, (country, count) in enumerate(top_countries, 1):\n",
    "    percentage = (count / total_papers) * 100\n",
    "    print(f\"{rank:2d}. {country:3s}: {count:8,} Papers ({percentage:.2f}%)\")"
   ]
  },
  {
   "cell_type": "code",
   "execution_count": 697,
   "id": "978f6c33",
   "metadata": {},
   "outputs": [
    {
     "name": "stdout",
     "output_type": "stream",
     "text": [
      "Länder DataFrame erstellt mit 226 Ländern\n"
     ]
    },
    {
     "data": {
      "text/html": [
       "<div>\n",
       "<style scoped>\n",
       "    .dataframe tbody tr th:only-of-type {\n",
       "        vertical-align: middle;\n",
       "    }\n",
       "\n",
       "    .dataframe tbody tr th {\n",
       "        vertical-align: top;\n",
       "    }\n",
       "\n",
       "    .dataframe thead th {\n",
       "        text-align: right;\n",
       "    }\n",
       "</style>\n",
       "<table border=\"1\" class=\"dataframe\">\n",
       "  <thead>\n",
       "    <tr style=\"text-align: right;\">\n",
       "      <th></th>\n",
       "      <th>Country_Code</th>\n",
       "      <th>Paper_Count</th>\n",
       "    </tr>\n",
       "  </thead>\n",
       "  <tbody>\n",
       "    <tr>\n",
       "      <th>0</th>\n",
       "      <td>GB</td>\n",
       "      <td>3057191</td>\n",
       "    </tr>\n",
       "    <tr>\n",
       "      <th>1</th>\n",
       "      <td>DE</td>\n",
       "      <td>2684903</td>\n",
       "    </tr>\n",
       "    <tr>\n",
       "      <th>2</th>\n",
       "      <td>FR</td>\n",
       "      <td>2340240</td>\n",
       "    </tr>\n",
       "    <tr>\n",
       "      <th>3</th>\n",
       "      <td>US</td>\n",
       "      <td>1715128</td>\n",
       "    </tr>\n",
       "    <tr>\n",
       "      <th>4</th>\n",
       "      <td>IT</td>\n",
       "      <td>1628325</td>\n",
       "    </tr>\n",
       "    <tr>\n",
       "      <th>5</th>\n",
       "      <td>ES</td>\n",
       "      <td>1490117</td>\n",
       "    </tr>\n",
       "    <tr>\n",
       "      <th>6</th>\n",
       "      <td>RU</td>\n",
       "      <td>1454541</td>\n",
       "    </tr>\n",
       "    <tr>\n",
       "      <th>7</th>\n",
       "      <td>NL</td>\n",
       "      <td>883788</td>\n",
       "    </tr>\n",
       "    <tr>\n",
       "      <th>8</th>\n",
       "      <td>PL</td>\n",
       "      <td>841244</td>\n",
       "    </tr>\n",
       "    <tr>\n",
       "      <th>9</th>\n",
       "      <td>CH</td>\n",
       "      <td>700694</td>\n",
       "    </tr>\n",
       "  </tbody>\n",
       "</table>\n",
       "</div>"
      ],
      "text/plain": [
       "  Country_Code  Paper_Count\n",
       "0           GB      3057191\n",
       "1           DE      2684903\n",
       "2           FR      2340240\n",
       "3           US      1715128\n",
       "4           IT      1628325\n",
       "5           ES      1490117\n",
       "6           RU      1454541\n",
       "7           NL       883788\n",
       "8           PL       841244\n",
       "9           CH       700694"
      ]
     },
     "execution_count": 697,
     "metadata": {},
     "output_type": "execute_result"
    }
   ],
   "source": [
    "# Erstelle DataFrame für weitere Verarbeitung\n",
    "countries_df = pd.DataFrame([\n",
    "    {'Country_Code': country, 'Paper_Count': count}\n",
    "    for country, count in country_counts.items()\n",
    "]).sort_values('Paper_Count', ascending=False).reset_index(drop=True)\n",
    "\n",
    "print(f\"Länder DataFrame erstellt mit {len(countries_df)} Ländern\")\n",
    "countries_df.head(10)"
   ]
  },
  {
   "cell_type": "markdown",
   "id": "88b694be",
   "metadata": {},
   "source": [
    "## ISO Codes Mapping"
   ]
  },
  {
   "cell_type": "code",
   "execution_count": 698,
   "id": "ac50e460",
   "metadata": {},
   "outputs": [],
   "source": [
    "# Datenaufbereitung für die Europakarte\n",
    "# Mapping von ISO-2 zu ISO-3 Codes und Ländernamen\n",
    "iso2_to_iso3_mapping = {\n",
    "    'AT': 'AUT', 'BE': 'BEL', 'BG': 'BGR', 'HR': 'HRV', 'CY': 'CYP',\n",
    "    'CZ': 'CZE', 'DK': 'DNK', 'EE': 'EST', 'FI': 'FIN', 'FR': 'FRA',\n",
    "    'DE': 'DEU', 'GR': 'GRC', 'HU': 'HUN', 'IE': 'IRL', 'IT': 'ITA',\n",
    "    'LV': 'LVA', 'LT': 'LTU', 'LU': 'LUX', 'MT': 'MLT', 'NL': 'NLD',\n",
    "    'PL': 'POL', 'PT': 'PRT', 'RO': 'ROU', 'SK': 'SVK', 'SI': 'SVN',\n",
    "    'ES': 'ESP', 'SE': 'SWE',\n",
    "    # Nicht-EU Länder\n",
    "    'GB': 'GBR', 'UK': 'GBR', 'NO': 'NOR', 'CH': 'CHE', 'IS': 'ISL',\n",
    "    'UA': 'UKR', 'TR': 'TUR', 'RS': 'SRB', 'BA': 'BIH', 'AL': 'ALB',\n",
    "    'ME': 'MNE', 'MK': 'MKD', 'MD': 'MDA', 'BY': 'BLR', 'RU': 'RUS'\n",
    "}\n",
    "\n",
    "iso3_to_country_name = {\n",
    "    'AUT': 'Austria', 'BEL': 'Belgium', 'BGR': 'Bulgaria', 'HRV': 'Croatia',\n",
    "    'CYP': 'Cyprus', 'CZE': 'Czech Republic', 'DNK': 'Denmark', 'EST': 'Estonia',\n",
    "    'FIN': 'Finland', 'FRA': 'France', 'DEU': 'Germany', 'GRC': 'Greece',\n",
    "    'HUN': 'Hungary', 'IRL': 'Ireland', 'ITA': 'Italy', 'LVA': 'Latvia',\n",
    "    'LTU': 'Lithuania', 'LUX': 'Luxembourg', 'MLT': 'Malta', 'NLD': 'Netherlands',\n",
    "    'POL': 'Poland', 'PRT': 'Portugal', 'ROU': 'Romania', 'SVK': 'Slovakia',\n",
    "    'SVN': 'Slovenia', 'ESP': 'Spain', 'SWE': 'Sweden',\n",
    "    # Nicht-EU Länder\n",
    "    'GBR': 'United Kingdom', 'NOR': 'Norway', 'CHE': 'Switzerland', 'ISL': 'Iceland',\n",
    "    'UKR': 'Ukraine', 'TUR': 'Turkey', 'SRB': 'Serbia', 'BIH': 'Bosnia and Herzegovina',\n",
    "    'ALB': 'Albania', 'MNE': 'Montenegro', 'MKD': 'North Macedonia', 'MDA': 'Moldova',\n",
    "    'BLR': 'Belarus', 'RUS': 'Russia'\n",
    "}\n",
    "\n",
    "def prepare_europe_data(country_counts):\n",
    "    \"\"\"\n",
    "    Bereitet die Länderdaten für die Europakarte vor.\n",
    "    \"\"\"\n",
    "    europe_data = {}\n",
    "    \n",
    "    # Gehe alle gefundenen Ländercodes durch\n",
    "    for country_code, count in country_counts.items():\n",
    "        # Versuche verschiedene Formate\n",
    "        iso3_code = None\n",
    "        \n",
    "        # Falls bereits ISO-3 Format\n",
    "        if len(country_code) == 3 and country_code in iso3_to_country_name:\n",
    "            iso3_code = country_code\n",
    "        # Falls ISO-2 Format\n",
    "        elif len(country_code) == 2 and country_code in iso2_to_iso3_mapping:\n",
    "            iso3_code = iso2_to_iso3_mapping[country_code]\n",
    "        \n",
    "        # Wenn ISO-3 Code gefunden und es ein europäisches Land ist\n",
    "        if iso3_code and iso3_code in iso3_to_country_name:\n",
    "            country_name = iso3_to_country_name[iso3_code]\n",
    "            europe_data[country_name] = count\n",
    "    \n",
    "    return europe_data\n"
   ]
  },
  {
   "cell_type": "code",
   "execution_count": 699,
   "id": "02e690e9",
   "metadata": {},
   "outputs": [
    {
     "name": "stdout",
     "output_type": "stream",
     "text": [
      "Europäische Länder gefunden: 41\n"
     ]
    }
   ],
   "source": [
    "# Erstelle Daten für die Europakarte\n",
    "europe_research_data = prepare_europe_data(country_counts)\n",
    "print(f\"Europäische Länder gefunden: {len(europe_research_data)}\")"
   ]
  },
  {
   "cell_type": "code",
   "execution_count": 700,
   "id": "d03bb8a9",
   "metadata": {},
   "outputs": [
    {
     "name": "stdout",
     "output_type": "stream",
     "text": [
      "\n",
      "Daten für 27 EU-Länder verfügbar\n"
     ]
    }
   ],
   "source": [
    "# Zeige EU-Länder mit ihren Paperzahlen\n",
    "eu_countries = [\n",
    "    \"Austria\",\n",
    "    \"Belgium\",\n",
    "    \"Bulgaria\",\n",
    "    \"Croatia\",\n",
    "    \"Cyprus\",\n",
    "    \"Czech Republic\",\n",
    "    \"Denmark\",\n",
    "    \"Estonia\",\n",
    "    \"Finland\",\n",
    "    \"France\",\n",
    "    \"Germany\",\n",
    "    \"Greece\",\n",
    "    \"Hungary\",\n",
    "    \"Ireland\",\n",
    "    \"Italy\",\n",
    "    \"Latvia\",\n",
    "    \"Lithuania\",\n",
    "    \"Luxembourg\",\n",
    "    \"Malta\",\n",
    "    \"Netherlands\",\n",
    "    \"Poland\",\n",
    "    \"Portugal\",\n",
    "    \"Romania\",\n",
    "    \"Slovakia\",\n",
    "    \"Slovenia\",\n",
    "    \"Spain\",\n",
    "    \"Sweden\"\n",
    "]\n",
    "\n",
    "\n",
    "eu_research_data = {\n",
    "    country: count\n",
    "    for country, count in europe_research_data.items()\n",
    "    if country in eu_countries\n",
    "}\n",
    "print(f\"\\nDaten für {len(eu_research_data)} EU-Länder verfügbar\")"
   ]
  },
  {
   "cell_type": "code",
   "execution_count": 701,
   "id": "17beb6b9",
   "metadata": {},
   "outputs": [
    {
     "data": {
      "text/plain": [
       "{'France': 2340240,\n",
       " 'Germany': 2684903,\n",
       " 'Denmark': 405820,\n",
       " 'Spain': 1490117,\n",
       " 'Belgium': 533431,\n",
       " 'Czech Republic': 329260,\n",
       " 'Finland': 297821,\n",
       " 'Italy': 1628325,\n",
       " 'Luxembourg': 43109,\n",
       " 'Netherlands': 883788,\n",
       " 'Sweden': 565233,\n",
       " 'Hungary': 196164,\n",
       " 'Malta': 14755,\n",
       " 'Poland': 841244,\n",
       " 'Portugal': 429884,\n",
       " 'Slovenia': 95454,\n",
       " 'Austria': 383322,\n",
       " 'Greece': 285386,\n",
       " 'Ireland': 225952,\n",
       " 'Estonia': 47562,\n",
       " 'Romania': 235189,\n",
       " 'Bulgaria': 89259,\n",
       " 'Croatia': 120725,\n",
       " 'Lithuania': 63132,\n",
       " 'Latvia': 43808,\n",
       " 'Slovakia': 112700,\n",
       " 'Cyprus': 23566}"
      ]
     },
     "execution_count": 701,
     "metadata": {},
     "output_type": "execute_result"
    }
   ],
   "source": [
    "eu_research_data"
   ]
  },
  {
   "cell_type": "code",
   "execution_count": 702,
   "id": "60ee3b9a",
   "metadata": {},
   "outputs": [
    {
     "name": "stdout",
     "output_type": "stream",
     "text": [
      "EU-Länder Forschungsoutput\n",
      "Austria             :  383,322 Papers\n",
      "Belgium             :  533,431 Papers\n",
      "Bulgaria            :   89,259 Papers\n",
      "Croatia             :  120,725 Papers\n",
      "Cyprus              :   23,566 Papers\n",
      "Czech Republic      :  329,260 Papers\n",
      "Denmark             :  405,820 Papers\n",
      "Estonia             :   47,562 Papers\n",
      "Finland             :  297,821 Papers\n",
      "France              : 2,340,240 Papers\n",
      "Germany             : 2,684,903 Papers\n",
      "Greece              :  285,386 Papers\n",
      "Hungary             :  196,164 Papers\n",
      "Ireland             :  225,952 Papers\n",
      "Italy               : 1,628,325 Papers\n",
      "Latvia              :   43,808 Papers\n",
      "Lithuania           :   63,132 Papers\n",
      "Luxembourg          :   43,109 Papers\n",
      "Malta               :   14,755 Papers\n",
      "Netherlands         :  883,788 Papers\n",
      "Poland              :  841,244 Papers\n",
      "Portugal            :  429,884 Papers\n",
      "Romania             :  235,189 Papers\n",
      "Slovakia            :  112,700 Papers\n",
      "Slovenia            :   95,454 Papers\n",
      "Spain               : 1,490,117 Papers\n",
      "Sweden              :  565,233 Papers\n"
     ]
    }
   ],
   "source": [
    "print(f\"EU-Länder Forschungsoutput\")\n",
    "for country in sorted(eu_research_data.keys()):\n",
    "    count = eu_research_data[country]\n",
    "    print(f\"{country:20s}: {count:8,} Papers\")"
   ]
  },
  {
   "cell_type": "code",
   "execution_count": 703,
   "id": "4c3bb37c",
   "metadata": {},
   "outputs": [
    {
     "name": "stdout",
     "output_type": "stream",
     "text": [
      "Normalisierte Werte für Visualisierung\n",
      "Germany             : 100.0 (2,684,903 Papers)\n",
      "France              :  87.1 (2,340,240 Papers)\n",
      "Italy               :  60.4 (1,628,325 Papers)\n",
      "Spain               :  55.3 (1,490,117 Papers)\n",
      "Netherlands         :  32.5 (883,788 Papers)\n",
      "Poland              :  31.0 (841,244 Papers)\n",
      "Sweden              :  20.6 (565,233 Papers)\n",
      "Belgium             :  19.4 (533,431 Papers)\n",
      "Portugal            :  15.5 (429,884 Papers)\n",
      "Denmark             :  14.6 (405,820 Papers)\n"
     ]
    }
   ],
   "source": [
    "if eu_research_data:\n",
    "    max_papers = max(eu_research_data.values())\n",
    "    min_papers = min(eu_research_data.values())\n",
    "\n",
    "    eu_research_normalized = {}\n",
    "    for country, count in eu_research_data.items():\n",
    "        # Normalisierung auf 0-100 Skala\n",
    "        normalized_value = (\n",
    "            ((count - min_papers) / (max_papers - min_papers)) * 100\n",
    "            if max_papers > min_papers\n",
    "            else 50\n",
    "        )\n",
    "        eu_research_normalized[country] = round(normalized_value, 1)\n",
    "\n",
    "    print(f\"Normalisierte Werte für Visualisierung\")\n",
    "    sorted_normalized = sorted(\n",
    "        eu_research_normalized.items(), key=lambda x: x[1], reverse=True\n",
    "    )\n",
    "    for country, norm_value in sorted_normalized[:10]:  # Top 10\n",
    "        original_count = eu_research_data[country]\n",
    "        print(f\"{country:20s}: {norm_value:5.1f} ({original_count:,} Papers)\")"
   ]
  },
  {
   "cell_type": "markdown",
   "id": "b5fccb0b",
   "metadata": {},
   "source": [
    "## Investitions- und OpenAlex-Daten joinen"
   ]
  },
  {
   "cell_type": "code",
   "execution_count": 704,
   "id": "d163fdab",
   "metadata": {},
   "outputs": [
    {
     "name": "stdout",
     "output_type": "stream",
     "text": [
      "Investitionsdaten\n",
      "          Land  Betrag in Mio. Euro\n",
      "0      Belgien           233201.336\n",
      "1    Bulgarien             7031.177\n",
      "2  Deutschland          1931488.613\n",
      "3     Dänemark           174858.568\n",
      "4      Estland             6807.736\n"
     ]
    }
   ],
   "source": [
    "print(\"Investitionsdaten\")\n",
    "print(Investitionssummen_Länder.head())"
   ]
  },
  {
   "cell_type": "code",
   "execution_count": 705,
   "id": "2a0be8e6",
   "metadata": {},
   "outputs": [],
   "source": [
    "# Mapping der Ländernamen von Eurostat zu OpenAlex (englische Namen)\n",
    "eurostat_to_openalex_mapping = {\n",
    "    'Deutschland': 'Germany',\n",
    "    'Frankreich': 'France', \n",
    "    'Italien': 'Italy',\n",
    "    'Spanien': 'Spain',\n",
    "    'Niederlande': 'Netherlands',\n",
    "    'Polen': 'Poland',\n",
    "    'Belgien': 'Belgium',\n",
    "    'Österreich': 'Austria',\n",
    "    'Schweden': 'Sweden',\n",
    "    'Tschechien': 'Czech Republic',\n",
    "    'Dänemark': 'Denmark',\n",
    "    'Finnland': 'Finland',\n",
    "    'Portugal': 'Portugal',\n",
    "    'Rumänien': 'Romania',\n",
    "    'Ungarn': 'Hungary',\n",
    "    'Griechenland': 'Greece',\n",
    "    'Bulgarien': 'Bulgaria',\n",
    "    'Slowakei': 'Slovakia',\n",
    "    'Kroatien': 'Croatia',\n",
    "    'Irland': 'Ireland',\n",
    "    'Litauen': 'Lithuania',\n",
    "    'Slowenien': 'Slovenia',\n",
    "    'Lettland': 'Latvia',\n",
    "    'Estland': 'Estonia',\n",
    "    'Zypern': 'Cyprus',\n",
    "    'Luxemburg': 'Luxembourg',\n",
    "    'Malta': 'Malta'\n",
    "}"
   ]
  },
  {
   "cell_type": "code",
   "execution_count": 706,
   "id": "df69f6c1",
   "metadata": {},
   "outputs": [
    {
     "name": "stdout",
     "output_type": "stream",
     "text": [
      "EU-Länder Forschungsoutput\n",
      "Austria             :  383,322 Papers\n",
      "Belgium             :  533,431 Papers\n",
      "Bulgaria            :   89,259 Papers\n",
      "Croatia             :  120,725 Papers\n",
      "Cyprus              :   23,566 Papers\n",
      "Czech Republic      :  329,260 Papers\n",
      "Denmark             :  405,820 Papers\n",
      "Estonia             :   47,562 Papers\n",
      "Finland             :  297,821 Papers\n",
      "France              : 2,340,240 Papers\n",
      "Germany             : 2,684,903 Papers\n",
      "Greece              :  285,386 Papers\n",
      "Hungary             :  196,164 Papers\n",
      "Ireland             :  225,952 Papers\n",
      "Italy               : 1,628,325 Papers\n",
      "Latvia              :   43,808 Papers\n",
      "Lithuania           :   63,132 Papers\n",
      "Luxembourg          :   43,109 Papers\n",
      "Malta               :   14,755 Papers\n",
      "Netherlands         :  883,788 Papers\n",
      "Poland              :  841,244 Papers\n",
      "Portugal            :  429,884 Papers\n",
      "Romania             :  235,189 Papers\n",
      "Slovakia            :  112,700 Papers\n",
      "Slovenia            :   95,454 Papers\n",
      "Spain               : 1,490,117 Papers\n",
      "Sweden              :  565,233 Papers\n",
      "\n",
      "Daten für 27 EU-Länder verfügbar\n"
     ]
    }
   ],
   "source": [
    "# Zeige EU-Länder mit ihren Paperzahlen\n",
    "print(f\"EU-Länder Forschungsoutput\")\n",
    "for country in sorted(eu_research_data.keys()):\n",
    "    count = eu_research_data[country]\n",
    "    print(f\"{country:20s}: {count:8,} Papers\")\n",
    "\n",
    "print(f\"\\nDaten für {len(eu_research_data)} EU-Länder verfügbar\")"
   ]
  },
  {
   "cell_type": "code",
   "execution_count": 707,
   "id": "9805ea0e",
   "metadata": {},
   "outputs": [
    {
     "name": "stdout",
     "output_type": "stream",
     "text": [
      "Normalisierte Werte für Visualisierung\n",
      "Germany             : 100.0 (2,684,903 Papers)\n",
      "France              :  87.1 (2,340,240 Papers)\n",
      "Italy               :  60.4 (1,628,325 Papers)\n",
      "Spain               :  55.3 (1,490,117 Papers)\n",
      "Netherlands         :  32.5 (883,788 Papers)\n",
      "Poland              :  31.0 (841,244 Papers)\n",
      "Sweden              :  20.6 (565,233 Papers)\n",
      "Belgium             :  19.4 (533,431 Papers)\n",
      "Portugal            :  15.5 (429,884 Papers)\n",
      "Denmark             :  14.6 (405,820 Papers)\n"
     ]
    }
   ],
   "source": [
    "# Erstelle normalisierte Werte für bessere Visualisierung (0-100 Skala)\n",
    "max_papers = max(eu_research_data.values())\n",
    "min_papers = min(eu_research_data.values())\n",
    "\n",
    "eu_research_normalized = {}\n",
    "for country, count in eu_research_data.items():\n",
    "    # Normalisierung auf 0-100 Skala\n",
    "    normalized_value = ((count - min_papers) / (max_papers - min_papers)) * 100 if max_papers > min_papers else 50\n",
    "    eu_research_normalized[country] = round(normalized_value, 1)\n",
    "\n",
    "print(f\"Normalisierte Werte für Visualisierung\")\n",
    "sorted_normalized = sorted(eu_research_normalized.items(), key=lambda x: x[1], reverse=True)\n",
    "for country, norm_value in sorted_normalized[:10]:  # Top 10\n",
    "    original_count = eu_research_data[country]\n",
    "    print(f\"{country:20s}: {norm_value:5.1f} ({original_count:,} Papers)\")"
   ]
  },
  {
   "cell_type": "code",
   "execution_count": 708,
   "id": "7e717321",
   "metadata": {},
   "outputs": [],
   "source": [
    "def calculate_research_efficiency(research_data, investment_data, country_mapping):\n",
    "    \"\"\"\n",
    "    Berechnet die Forschungseffizienz (Papers pro Million Euro Investition)\n",
    "    \"\"\"\n",
    "    efficiency_data = {}\n",
    "    \n",
    "    # Konvertiere Investitionsdaten in Dictionary\n",
    "    investment_dict = {}\n",
    "    for _, row in investment_data.iterrows():\n",
    "        german_name = row['Land']\n",
    "        amount_mio = row['Betrag in Mio. Euro']\n",
    "        \n",
    "        # Übersetze deutschen Namen zu englischem Namen\n",
    "        if german_name in country_mapping:\n",
    "            english_name = country_mapping[german_name]\n",
    "            investment_dict[english_name] = amount_mio\n",
    "    \n",
    "    print(f\"Investitionsdaten für {len(investment_dict)} Länder gefunden:\")\n",
    "    for country, amount in sorted(investment_dict.items(), key=lambda x: x[1], reverse=True)[:10]:\n",
    "        print(f\"  {country:20s}: {amount:8,.1f} Mio. €\")\n",
    "    \n",
    "    # Berechne Effizienz für Länder mit beiden Datensätzen\n",
    "    for country in research_data.keys():\n",
    "        if country in investment_dict and country in research_data:\n",
    "            papers = research_data[country]\n",
    "            investment_mio = investment_dict[country]\n",
    "            \n",
    "            # Berechne Papers pro Million Euro\n",
    "            if investment_mio > 0:\n",
    "                efficiency = papers / investment_mio\n",
    "                efficiency_data[country] = efficiency\n",
    "    \n",
    "    return efficiency_data, investment_dict"
   ]
  },
  {
   "cell_type": "code",
   "execution_count": 709,
   "id": "250f0e3a",
   "metadata": {},
   "outputs": [
    {
     "name": "stdout",
     "output_type": "stream",
     "text": [
      "Investitionsdaten für 27 Länder gefunden:\n",
      "  Germany             : 1,931,488.6 Mio. €\n",
      "  France              : 1,079,692.8 Mio. €\n",
      "  Italy               : 489,078.7 Mio. €\n",
      "  Netherlands         : 323,865.3 Mio. €\n",
      "  Spain               : 314,667.1 Mio. €\n",
      "  Sweden              : 306,923.5 Mio. €\n",
      "  Belgium             : 233,201.3 Mio. €\n",
      "  Austria             : 215,647.3 Mio. €\n",
      "  Denmark             : 174,858.6 Mio. €\n",
      "  Finland             : 151,551.0 Mio. €\n"
     ]
    }
   ],
   "source": [
    "efficiency_data, investment_dict = calculate_research_efficiency(\n",
    "    eu_research_data, Investitionssummen_Länder, eurostat_to_openalex_mapping\n",
    ")"
   ]
  },
  {
   "cell_type": "code",
   "execution_count": 710,
   "id": "56823933",
   "metadata": {},
   "outputs": [
    {
     "name": "stdout",
     "output_type": "stream",
     "text": [
      "Top 10 effizienteste Länder:\n",
      " 1. Romania        :   14.2 Papers/Mio.€ (235,189 Papers, 16,528 Mio.€)\n",
      " 2. Latvia         :   13.3 Papers/Mio.€ (43,808 Papers, 3,305 Mio.€)\n",
      " 3. Bulgaria       :   12.7 Papers/Mio.€ (89,259 Papers, 7,031 Mio.€)\n",
      " 4. Croatia        :   12.0 Papers/Mio.€ (120,725 Papers, 10,065 Mio.€)\n",
      " 5. Malta          :   11.9 Papers/Mio.€ (14,755 Papers, 1,240 Mio.€)\n",
      " 6. Cyprus         :   10.0 Papers/Mio.€ (23,566 Papers, 2,353 Mio.€)\n",
      " 7. Poland         :    8.9 Papers/Mio.€ (841,244 Papers, 94,100 Mio.€)\n",
      " 8. Slovakia       :    8.8 Papers/Mio.€ (112,700 Papers, 12,762 Mio.€)\n",
      " 9. Lithuania      :    8.1 Papers/Mio.€ (63,132 Papers, 7,762 Mio.€)\n",
      "10. Portugal       :    7.7 Papers/Mio.€ (429,884 Papers, 55,856 Mio.€)\n"
     ]
    }
   ],
   "source": [
    "# Sortiere nach Effizienz\n",
    "efficiency_sorted = sorted(efficiency_data.items(), key=lambda x: x[1], reverse=True)\n",
    "\n",
    "print(f\"Top 10 effizienteste Länder:\")\n",
    "for rank, (country, efficiency) in enumerate(efficiency_sorted[:10], 1):\n",
    "    papers = eu_research_data[country]\n",
    "    investment = investment_dict[country]\n",
    "    print(f\"{rank:2d}. {country:15s}: {efficiency:6.1f} Papers/Mio.€ \"\n",
    "          f\"({papers:,} Papers, {investment:,.0f} Mio.€)\")"
   ]
  },
  {
   "cell_type": "code",
   "execution_count": 711,
   "id": "09764b3b",
   "metadata": {},
   "outputs": [
    {
     "name": "stdout",
     "output_type": "stream",
     "text": [
      "Effizienzwerte (Papers pro Mio. €)\n",
      "Romania        :   14.2 Papers/Mio.€ (235,189 Papers, 16,528 Mio.€)\n",
      "Latvia         :   13.3 Papers/Mio.€ (43,808 Papers, 3,305 Mio.€)\n",
      "Bulgaria       :   12.7 Papers/Mio.€ (89,259 Papers, 7,031 Mio.€)\n",
      "Croatia        :   12.0 Papers/Mio.€ (120,725 Papers, 10,065 Mio.€)\n",
      "Malta          :   11.9 Papers/Mio.€ (14,755 Papers, 1,240 Mio.€)\n",
      "Cyprus         :   10.0 Papers/Mio.€ (23,566 Papers, 2,353 Mio.€)\n",
      "Poland         :    8.9 Papers/Mio.€ (841,244 Papers, 94,100 Mio.€)\n",
      "Slovakia       :    8.8 Papers/Mio.€ (112,700 Papers, 12,762 Mio.€)\n",
      "Lithuania      :    8.1 Papers/Mio.€ (63,132 Papers, 7,762 Mio.€)\n",
      "Portugal       :    7.7 Papers/Mio.€ (429,884 Papers, 55,856 Mio.€)\n",
      "Greece         :    7.5 Papers/Mio.€ (285,386 Papers, 38,278 Mio.€)\n",
      "Estonia        :    7.0 Papers/Mio.€ (47,562 Papers, 6,808 Mio.€)\n",
      "Hungary        :    6.0 Papers/Mio.€ (196,164 Papers, 32,917 Mio.€)\n",
      "Slovenia       :    5.4 Papers/Mio.€ (95,454 Papers, 17,801 Mio.€)\n",
      "Czech Republic :    5.1 Papers/Mio.€ (329,260 Papers, 65,081 Mio.€)\n",
      "Spain          :    4.7 Papers/Mio.€ (1,490,117 Papers, 314,667 Mio.€)\n",
      "Italy          :    3.3 Papers/Mio.€ (1,628,325 Papers, 489,079 Mio.€)\n",
      "Luxembourg     :    3.1 Papers/Mio.€ (43,109 Papers, 13,788 Mio.€)\n",
      "Ireland        :    3.0 Papers/Mio.€ (225,952 Papers, 76,188 Mio.€)\n",
      "Netherlands    :    2.7 Papers/Mio.€ (883,788 Papers, 323,865 Mio.€)\n",
      "Denmark        :    2.3 Papers/Mio.€ (405,820 Papers, 174,859 Mio.€)\n",
      "Belgium        :    2.3 Papers/Mio.€ (533,431 Papers, 233,201 Mio.€)\n",
      "France         :    2.2 Papers/Mio.€ (2,340,240 Papers, 1,079,693 Mio.€)\n",
      "Finland        :    2.0 Papers/Mio.€ (297,821 Papers, 151,551 Mio.€)\n",
      "Sweden         :    1.8 Papers/Mio.€ (565,233 Papers, 306,924 Mio.€)\n",
      "Austria        :    1.8 Papers/Mio.€ (383,322 Papers, 215,647 Mio.€)\n",
      "Germany        :    1.4 Papers/Mio.€ (2,684,903 Papers, 1,931,489 Mio.€)\n",
      "\n",
      "Bereich: 1.4 - 14.2 Papers/Mio.€\n"
     ]
    }
   ],
   "source": [
    "max_efficiency = max(efficiency_data.values())\n",
    "min_efficiency = min(efficiency_data.values())\n",
    "\n",
    "# Verwende die originalen Effizienzwerte direkt (keine 0-100 Normalisierung)\n",
    "efficiency_normalized = efficiency_data.copy()\n",
    "\n",
    "print(f\"Effizienzwerte (Papers pro Mio. €)\")\n",
    "efficiency_norm_sorted = sorted(efficiency_normalized.items(), key=lambda x: x[1], reverse=True)\n",
    "for country, eff in efficiency_norm_sorted:\n",
    "    papers = eu_research_data[country]\n",
    "    investment = investment_dict[country]\n",
    "    print(f\"{country:15s}: {eff:6.1f} Papers/Mio.€ ({papers:,} Papers, {investment:,.0f} Mio.€)\")\n",
    "\n",
    "print(f\"\\nBereich: {min_efficiency:.1f} - {max_efficiency:.1f} Papers/Mio.€\")"
   ]
  },
  {
   "cell_type": "markdown",
   "id": "95dd1880",
   "metadata": {},
   "source": [
    "## EU Karte für Forschungseffizienz (Papers pro Millionen Euro)"
   ]
  },
  {
   "cell_type": "code",
   "execution_count": 712,
   "id": "a0145c18",
   "metadata": {},
   "outputs": [],
   "source": [
    "# EU-Mitgliedsstaaten (Stand 2024)\n",
    "eu_countries = [\n",
    "    'Austria', 'Belgium', 'Bulgaria', 'Croatia', 'Cyprus', 'Czech Republic',\n",
    "    'Denmark', 'Estonia', 'Finland', 'France', 'Germany', 'Greece',\n",
    "    'Hungary', 'Ireland', 'Italy', 'Latvia', 'Lithuania', 'Luxembourg',\n",
    "    'Malta', 'Netherlands', 'Poland', 'Portugal', 'Romania', 'Slovakia',\n",
    "    'Slovenia', 'Spain', 'Sweden'\n",
    "]\n",
    "\n",
    "# ISO-Codes für EU-Länder (für plotly)\n",
    "eu_iso_codes = {\n",
    "    'Austria': 'AUT', 'Belgium': 'BEL', 'Bulgaria': 'BGR', 'Croatia': 'HRV',\n",
    "    'Cyprus': 'CYP', 'Czech Republic': 'CZE', 'Denmark': 'DNK', 'Estonia': 'EST',\n",
    "    'Finland': 'FIN', 'France': 'FRA', 'Germany': 'DEU', 'Greece': 'GRC',\n",
    "    'Hungary': 'HUN', 'Ireland': 'IRL', 'Italy': 'ITA', 'Latvia': 'LVA',\n",
    "    'Lithuania': 'LTU', 'Luxembourg': 'LUX', 'Malta': 'MLT', 'Netherlands': 'NLD',\n",
    "    'Poland': 'POL', 'Portugal': 'PRT', 'Romania': 'ROU', 'Slovakia': 'SVK',\n",
    "    'Slovenia': 'SVN', 'Spain': 'ESP', 'Sweden': 'SWE'\n",
    "}\n"
   ]
  },
  {
   "cell_type": "code",
   "execution_count": 713,
   "id": "b8ee2df8",
   "metadata": {},
   "outputs": [],
   "source": [
    "def create_efficiency_map(data_dict, title=\"<b>EU Forschungseffizienz</b>\", show_non_eu=True):\n",
    "    \"\"\"\n",
    "    Erstellt eine Effizienz-Karte:\n",
    "    GRÜN = Hohe Effizienz (viele Papers pro Euro)\n",
    "    ROT = Niedrige Effizienz (wenige Papers pro Euro)\n",
    "    \"\"\"\n",
    "    \n",
    "    # EU-Länder Daten vorbereiten\n",
    "    all_locations = []\n",
    "    all_values = []\n",
    "    all_texts = []\n",
    "    \n",
    "    for country in eu_countries:\n",
    "        if country in data_dict:\n",
    "            all_locations.append(eu_iso_codes[country])\n",
    "            all_values.append(data_dict[country])\n",
    "            all_texts.append(country)\n",
    "    \n",
    "    if not all_locations:\n",
    "        print(\"  Keine Daten für EU-Länder gefunden!\")\n",
    "        return None\n",
    "    \n",
    "    # Berechne die Grenzwerte für die Farbskala\n",
    "    min_value = min(all_values)\n",
    "    max_value = max(all_values)\n",
    "    \n",
    "    fig = go.Figure()\n",
    "    \n",
    "    # EU-Länder mit Grün zu Rot-Farbpalette\n",
    "    # RdYlGn für Niedrige Werte = ROT, Hohe Werte = GRÜN\n",
    "    fig.add_trace(go.Choropleth(\n",
    "        locations=all_locations,\n",
    "        z=all_values,\n",
    "        locationmode='ISO-3',\n",
    "        colorscale='RdYlGn',\n",
    "        autocolorscale=False,\n",
    "        text=all_texts,\n",
    "        hovertemplate='<b>%{text}</b><br>Effizienz: %{z:.1f} Papers/Mio. €<br><extra></extra>',\n",
    "        colorbar=dict(\n",
    "            title=dict(\n",
    "                text=\"Paper pro Mio. € <br>\",\n",
    "                font=dict(size=14)\n",
    "            ),\n",
    "            tickmode=\"linear\",\n",
    "            tick0=min_value,\n",
    "            dtick=(max_value - min_value) / 5,\n",
    "            tickformat=\".1f\",\n",
    "            xanchor=\"left\",\n",
    "            y=0.5,\n",
    "            yanchor=\"middle\"\n",
    "        ),\n",
    "        name=\"EU-Länder\",\n",
    "        marker_line_color='white',\n",
    "        marker_line_width=0.5\n",
    "    ))\n",
    "    \n",
    "    # Nicht-EU-Länder in Grau\n",
    "    if show_non_eu:\n",
    "        non_eu_european = [\n",
    "            'Albania', 'Andorra', 'Belarus', 'Bosnia and Herzegovina', 'Iceland',\n",
    "            'Liechtenstein', 'Moldova', 'Monaco', 'Montenegro', 'North Macedonia',\n",
    "            'Norway', 'San Marino', 'Serbia', 'Switzerland', 'Ukraine', 'United Kingdom',\n",
    "            'Vatican City', 'Kosovo', 'Turkey', 'Russia'\n",
    "        ]\n",
    "        \n",
    "        non_eu_iso = {\n",
    "            'Albania': 'ALB', 'Andorra': 'AND', 'Belarus': 'BLR', \n",
    "            'Bosnia and Herzegovina': 'BIH', 'Iceland': 'ISL', 'Liechtenstein': 'LIE',\n",
    "            'Moldova': 'MDA', 'Monaco': 'MCO', 'Montenegro': 'MNE', \n",
    "            'North Macedonia': 'MKD', 'Norway': 'NOR', 'San Marino': 'SMR',\n",
    "            'Serbia': 'SRB', 'Switzerland': 'CHE', 'Ukraine': 'UKR', \n",
    "            'United Kingdom': 'GBR', 'Vatican City': 'VAT', 'Kosovo': 'XKX',\n",
    "            'Turkey': 'TUR', 'Russia': 'RUS'\n",
    "        }\n",
    "        \n",
    "        non_eu_locations = []\n",
    "        non_eu_texts = []\n",
    "        \n",
    "        for country in non_eu_european:\n",
    "            if country in non_eu_iso and non_eu_iso[country] != '':\n",
    "                non_eu_locations.append(non_eu_iso[country])\n",
    "                non_eu_texts.append(country)\n",
    "        \n",
    "        if non_eu_locations:\n",
    "            fig.add_trace(go.Choropleth(\n",
    "                locations=non_eu_locations,\n",
    "                z=[1] * len(non_eu_locations),\n",
    "                locationmode='ISO-3',\n",
    "                colorscale=[[0, '#f0f0f0'], [1, '#f0f0f0']],\n",
    "                showscale=False,\n",
    "                text=non_eu_texts,\n",
    "                hovertemplate='<b>%{text}</b><br>Nicht-EU Land<extra></extra>',\n",
    "                name=\"Nicht-EU Länder\",\n",
    "                marker_line_color='white',\n",
    "                marker_line_width=0.5\n",
    "            ))\n",
    "    \n",
    "    fig.update_layout(\n",
    "        title=dict(\n",
    "            text=title,\n",
    "            x=0.5,\n",
    "            font=dict(weight=\"bold\")\n",
    "        ),\n",
    "        geo=dict(\n",
    "            showframe=False,\n",
    "            showcoastlines=True,\n",
    "            coastlinecolor=\"lightgray\",\n",
    "            projection_type='natural earth',\n",
    "            center=dict(lat=52, lon=12),  # Zentrum nach links verschoben \n",
    "            projection_scale=1.0,  # Zoom-Level beibehalten\n",
    "            lataxis=dict(range=[32.5, 70.5]),  # Vertikal unverändert\n",
    "            lonaxis=dict(range=[-8, 37]),  # Horizontal nach links verschoben\n",
    "            showland=True,\n",
    "            landcolor='rgb(248, 248, 248)',\n",
    "            showocean=True,\n",
    "            oceancolor='rgb(204, 230, 255)',\n",
    "            resolution=50\n",
    "        ),\n",
    "        width=900,\n",
    "        plot_bgcolor='white',\n",
    "        paper_bgcolor='white',\n",
    "        margin=dict(l=0, r=0, t=50, b=0)\n",
    "    )\n",
    "    \n",
    "    return fig, min_value, max_value"
   ]
  },
  {
   "cell_type": "code",
   "execution_count": 714,
   "id": "2cb8c6a0",
   "metadata": {},
   "outputs": [
    {
     "name": "stdout",
     "output_type": "stream",
     "text": [
      "Verfügbare EU-Länder mit Forschungseffizienz-Daten:\n",
      " 1. Romania        :   14.2 Papers/Mio.€ (235,189 Papers, 16,528 Mio.€)\n",
      " 2. Latvia         :   13.3 Papers/Mio.€ (43,808 Papers, 3,305 Mio.€)\n",
      " 3. Bulgaria       :   12.7 Papers/Mio.€ (89,259 Papers, 7,031 Mio.€)\n",
      " 4. Croatia        :   12.0 Papers/Mio.€ (120,725 Papers, 10,065 Mio.€)\n",
      " 5. Malta          :   11.9 Papers/Mio.€ (14,755 Papers, 1,240 Mio.€)\n",
      " 6. Cyprus         :   10.0 Papers/Mio.€ (23,566 Papers, 2,353 Mio.€)\n",
      " 7. Poland         :    8.9 Papers/Mio.€ (841,244 Papers, 94,100 Mio.€)\n",
      " 8. Slovakia       :    8.8 Papers/Mio.€ (112,700 Papers, 12,762 Mio.€)\n",
      " 9. Lithuania      :    8.1 Papers/Mio.€ (63,132 Papers, 7,762 Mio.€)\n",
      "10. Portugal       :    7.7 Papers/Mio.€ (429,884 Papers, 55,856 Mio.€)\n",
      "11. Greece         :    7.5 Papers/Mio.€ (285,386 Papers, 38,278 Mio.€)\n",
      "12. Estonia        :    7.0 Papers/Mio.€ (47,562 Papers, 6,808 Mio.€)\n",
      "13. Hungary        :    6.0 Papers/Mio.€ (196,164 Papers, 32,917 Mio.€)\n",
      "14. Slovenia       :    5.4 Papers/Mio.€ (95,454 Papers, 17,801 Mio.€)\n",
      "15. Czech Republic :    5.1 Papers/Mio.€ (329,260 Papers, 65,081 Mio.€)\n",
      "16. Spain          :    4.7 Papers/Mio.€ (1,490,117 Papers, 314,667 Mio.€)\n",
      "17. Italy          :    3.3 Papers/Mio.€ (1,628,325 Papers, 489,079 Mio.€)\n",
      "18. Luxembourg     :    3.1 Papers/Mio.€ (43,109 Papers, 13,788 Mio.€)\n",
      "19. Ireland        :    3.0 Papers/Mio.€ (225,952 Papers, 76,188 Mio.€)\n",
      "20. Netherlands    :    2.7 Papers/Mio.€ (883,788 Papers, 323,865 Mio.€)\n",
      "21. Denmark        :    2.3 Papers/Mio.€ (405,820 Papers, 174,859 Mio.€)\n",
      "22. Belgium        :    2.3 Papers/Mio.€ (533,431 Papers, 233,201 Mio.€)\n",
      "23. France         :    2.2 Papers/Mio.€ (2,340,240 Papers, 1,079,693 Mio.€)\n",
      "24. Finland        :    2.0 Papers/Mio.€ (297,821 Papers, 151,551 Mio.€)\n",
      "25. Sweden         :    1.8 Papers/Mio.€ (565,233 Papers, 306,924 Mio.€)\n",
      "26. Austria        :    1.8 Papers/Mio.€ (383,322 Papers, 215,647 Mio.€)\n",
      "27. Germany        :    1.4 Papers/Mio.€ (2,684,903 Papers, 1,931,489 Mio.€)\n"
     ]
    }
   ],
   "source": [
    "print(f\"Verfügbare EU-Länder mit Forschungseffizienz-Daten:\")\n",
    "efficiency_ranking = sorted(efficiency_normalized.items(), key=lambda x: x[1], reverse=True)\n",
    "\n",
    "for rank, (country, eff) in enumerate(efficiency_ranking, 1):\n",
    "    if 'efficiency_data' in locals() and country in efficiency_data:\n",
    "        papers = eu_research_data.get(country, 0) if 'eu_research_data' in locals() else 0\n",
    "        investment = investment_dict.get(country, 0) if 'investment_dict' in locals() else 0\n",
    "        print(f\"{rank:2d}. {country:15s}: {eff:6.1f} Papers/Mio.€ \"\n",
    "                f\"({papers:,} Papers, {investment:,.0f} Mio.€)\")\n",
    "    else:\n",
    "        print(f\"{rank:2d}. {country:15s}: {eff:6.1f} Papers/Mio.€\")"
   ]
  },
  {
   "cell_type": "code",
   "execution_count": 715,
   "id": "cb15608d",
   "metadata": {},
   "outputs": [
    {
     "data": {
      "application/vnd.plotly.v1+json": {
       "config": {
        "plotlyServerURL": "https://plot.ly"
       },
       "data": [
        {
         "autocolorscale": false,
         "colorbar": {
          "dtick": 2.5679043489062026,
          "tick0": 1.3900692874548157,
          "tickformat": ".1f",
          "tickmode": "linear",
          "title": {
           "font": {
            "size": 14
           },
           "text": "Paper pro Mio. € <br>"
          },
          "xanchor": "left",
          "y": 0.5,
          "yanchor": "middle"
         },
         "colorscale": [
          [
           0,
           "rgb(165,0,38)"
          ],
          [
           0.1,
           "rgb(215,48,39)"
          ],
          [
           0.2,
           "rgb(244,109,67)"
          ],
          [
           0.3,
           "rgb(253,174,97)"
          ],
          [
           0.4,
           "rgb(254,224,139)"
          ],
          [
           0.5,
           "rgb(255,255,191)"
          ],
          [
           0.6,
           "rgb(217,239,139)"
          ],
          [
           0.7,
           "rgb(166,217,106)"
          ],
          [
           0.8,
           "rgb(102,189,99)"
          ],
          [
           0.9,
           "rgb(26,152,80)"
          ],
          [
           1,
           "rgb(0,104,55)"
          ]
         ],
         "hovertemplate": "<b>%{text}</b><br>Effizienz: %{z:.1f} Papers/Mio. €<br><extra></extra>",
         "locationmode": "ISO-3",
         "locations": [
          "AUT",
          "BEL",
          "BGR",
          "HRV",
          "CYP",
          "CZE",
          "DNK",
          "EST",
          "FIN",
          "FRA",
          "DEU",
          "GRC",
          "HUN",
          "IRL",
          "ITA",
          "LVA",
          "LTU",
          "LUX",
          "MLT",
          "NLD",
          "POL",
          "PRT",
          "ROU",
          "SVK",
          "SVN",
          "ESP",
          "SWE"
         ],
         "marker": {
          "line": {
           "color": "white",
           "width": 0.5
          }
         },
         "name": "EU-Länder",
         "text": [
          "Austria",
          "Belgium",
          "Bulgaria",
          "Croatia",
          "Cyprus",
          "Czech Republic",
          "Denmark",
          "Estonia",
          "Finland",
          "France",
          "Germany",
          "Greece",
          "Hungary",
          "Ireland",
          "Italy",
          "Latvia",
          "Lithuania",
          "Luxembourg",
          "Malta",
          "Netherlands",
          "Poland",
          "Portugal",
          "Romania",
          "Slovakia",
          "Slovenia",
          "Spain",
          "Sweden"
         ],
         "type": "choropleth",
         "z": [
          1.7775412104470336,
          2.2874268610536603,
          12.69474513299836,
          11.994648732402341,
          10.015721018436391,
          5.059224393826523,
          2.320847097409605,
          6.986463634900061,
          1.9651539169535819,
          2.167505522133491,
          1.3900692874548157,
          7.455575236035132,
          5.959331490624255,
          2.9657070435017268,
          3.329372062303133,
          13.253540212157086,
          8.133053729015183,
          3.126610348660317,
          11.896008488049976,
          2.7288754391536703,
          8.939883754646182,
          7.696331935618602,
          14.229591031985828,
          8.83090632288975,
          5.362240544019061,
          4.735535078103705,
          1.8416087216364136
         ]
        },
        {
         "colorscale": [
          [
           0,
           "#f0f0f0"
          ],
          [
           1,
           "#f0f0f0"
          ]
         ],
         "hovertemplate": "<b>%{text}</b><br>Nicht-EU Land<extra></extra>",
         "locationmode": "ISO-3",
         "locations": [
          "ALB",
          "AND",
          "BLR",
          "BIH",
          "ISL",
          "LIE",
          "MDA",
          "MCO",
          "MNE",
          "MKD",
          "NOR",
          "SMR",
          "SRB",
          "CHE",
          "UKR",
          "GBR",
          "VAT",
          "XKX",
          "TUR",
          "RUS"
         ],
         "marker": {
          "line": {
           "color": "white",
           "width": 0.5
          }
         },
         "name": "Nicht-EU Länder",
         "showscale": false,
         "text": [
          "Albania",
          "Andorra",
          "Belarus",
          "Bosnia and Herzegovina",
          "Iceland",
          "Liechtenstein",
          "Moldova",
          "Monaco",
          "Montenegro",
          "North Macedonia",
          "Norway",
          "San Marino",
          "Serbia",
          "Switzerland",
          "Ukraine",
          "United Kingdom",
          "Vatican City",
          "Kosovo",
          "Turkey",
          "Russia"
         ],
         "type": "choropleth",
         "z": [
          1,
          1,
          1,
          1,
          1,
          1,
          1,
          1,
          1,
          1,
          1,
          1,
          1,
          1,
          1,
          1,
          1,
          1,
          1,
          1
         ]
        }
       ],
       "layout": {
        "geo": {
         "center": {
          "lat": 52,
          "lon": 12
         },
         "coastlinecolor": "lightgray",
         "landcolor": "rgb(248, 248, 248)",
         "lataxis": {
          "range": [
           32.5,
           70.5
          ]
         },
         "lonaxis": {
          "range": [
           -8,
           37
          ]
         },
         "oceancolor": "rgb(204, 230, 255)",
         "projection": {
          "scale": 1,
          "type": "natural earth"
         },
         "resolution": 50,
         "showcoastlines": true,
         "showframe": false,
         "showland": true,
         "showocean": true
        },
        "margin": {
         "b": 0,
         "l": 0,
         "r": 0,
         "t": 50
        },
        "paper_bgcolor": "white",
        "plot_bgcolor": "white",
        "template": {
         "data": {
          "bar": [
           {
            "error_x": {
             "color": "#2a3f5f"
            },
            "error_y": {
             "color": "#2a3f5f"
            },
            "marker": {
             "line": {
              "color": "#E5ECF6",
              "width": 0.5
             },
             "pattern": {
              "fillmode": "overlay",
              "size": 10,
              "solidity": 0.2
             }
            },
            "type": "bar"
           }
          ],
          "barpolar": [
           {
            "marker": {
             "line": {
              "color": "#E5ECF6",
              "width": 0.5
             },
             "pattern": {
              "fillmode": "overlay",
              "size": 10,
              "solidity": 0.2
             }
            },
            "type": "barpolar"
           }
          ],
          "carpet": [
           {
            "aaxis": {
             "endlinecolor": "#2a3f5f",
             "gridcolor": "white",
             "linecolor": "white",
             "minorgridcolor": "white",
             "startlinecolor": "#2a3f5f"
            },
            "baxis": {
             "endlinecolor": "#2a3f5f",
             "gridcolor": "white",
             "linecolor": "white",
             "minorgridcolor": "white",
             "startlinecolor": "#2a3f5f"
            },
            "type": "carpet"
           }
          ],
          "choropleth": [
           {
            "colorbar": {
             "outlinewidth": 0,
             "ticks": ""
            },
            "type": "choropleth"
           }
          ],
          "contour": [
           {
            "colorbar": {
             "outlinewidth": 0,
             "ticks": ""
            },
            "colorscale": [
             [
              0,
              "#0d0887"
             ],
             [
              0.1111111111111111,
              "#46039f"
             ],
             [
              0.2222222222222222,
              "#7201a8"
             ],
             [
              0.3333333333333333,
              "#9c179e"
             ],
             [
              0.4444444444444444,
              "#bd3786"
             ],
             [
              0.5555555555555556,
              "#d8576b"
             ],
             [
              0.6666666666666666,
              "#ed7953"
             ],
             [
              0.7777777777777778,
              "#fb9f3a"
             ],
             [
              0.8888888888888888,
              "#fdca26"
             ],
             [
              1,
              "#f0f921"
             ]
            ],
            "type": "contour"
           }
          ],
          "contourcarpet": [
           {
            "colorbar": {
             "outlinewidth": 0,
             "ticks": ""
            },
            "type": "contourcarpet"
           }
          ],
          "heatmap": [
           {
            "colorbar": {
             "outlinewidth": 0,
             "ticks": ""
            },
            "colorscale": [
             [
              0,
              "#0d0887"
             ],
             [
              0.1111111111111111,
              "#46039f"
             ],
             [
              0.2222222222222222,
              "#7201a8"
             ],
             [
              0.3333333333333333,
              "#9c179e"
             ],
             [
              0.4444444444444444,
              "#bd3786"
             ],
             [
              0.5555555555555556,
              "#d8576b"
             ],
             [
              0.6666666666666666,
              "#ed7953"
             ],
             [
              0.7777777777777778,
              "#fb9f3a"
             ],
             [
              0.8888888888888888,
              "#fdca26"
             ],
             [
              1,
              "#f0f921"
             ]
            ],
            "type": "heatmap"
           }
          ],
          "histogram": [
           {
            "marker": {
             "pattern": {
              "fillmode": "overlay",
              "size": 10,
              "solidity": 0.2
             }
            },
            "type": "histogram"
           }
          ],
          "histogram2d": [
           {
            "colorbar": {
             "outlinewidth": 0,
             "ticks": ""
            },
            "colorscale": [
             [
              0,
              "#0d0887"
             ],
             [
              0.1111111111111111,
              "#46039f"
             ],
             [
              0.2222222222222222,
              "#7201a8"
             ],
             [
              0.3333333333333333,
              "#9c179e"
             ],
             [
              0.4444444444444444,
              "#bd3786"
             ],
             [
              0.5555555555555556,
              "#d8576b"
             ],
             [
              0.6666666666666666,
              "#ed7953"
             ],
             [
              0.7777777777777778,
              "#fb9f3a"
             ],
             [
              0.8888888888888888,
              "#fdca26"
             ],
             [
              1,
              "#f0f921"
             ]
            ],
            "type": "histogram2d"
           }
          ],
          "histogram2dcontour": [
           {
            "colorbar": {
             "outlinewidth": 0,
             "ticks": ""
            },
            "colorscale": [
             [
              0,
              "#0d0887"
             ],
             [
              0.1111111111111111,
              "#46039f"
             ],
             [
              0.2222222222222222,
              "#7201a8"
             ],
             [
              0.3333333333333333,
              "#9c179e"
             ],
             [
              0.4444444444444444,
              "#bd3786"
             ],
             [
              0.5555555555555556,
              "#d8576b"
             ],
             [
              0.6666666666666666,
              "#ed7953"
             ],
             [
              0.7777777777777778,
              "#fb9f3a"
             ],
             [
              0.8888888888888888,
              "#fdca26"
             ],
             [
              1,
              "#f0f921"
             ]
            ],
            "type": "histogram2dcontour"
           }
          ],
          "mesh3d": [
           {
            "colorbar": {
             "outlinewidth": 0,
             "ticks": ""
            },
            "type": "mesh3d"
           }
          ],
          "parcoords": [
           {
            "line": {
             "colorbar": {
              "outlinewidth": 0,
              "ticks": ""
             }
            },
            "type": "parcoords"
           }
          ],
          "pie": [
           {
            "automargin": true,
            "type": "pie"
           }
          ],
          "scatter": [
           {
            "fillpattern": {
             "fillmode": "overlay",
             "size": 10,
             "solidity": 0.2
            },
            "type": "scatter"
           }
          ],
          "scatter3d": [
           {
            "line": {
             "colorbar": {
              "outlinewidth": 0,
              "ticks": ""
             }
            },
            "marker": {
             "colorbar": {
              "outlinewidth": 0,
              "ticks": ""
             }
            },
            "type": "scatter3d"
           }
          ],
          "scattercarpet": [
           {
            "marker": {
             "colorbar": {
              "outlinewidth": 0,
              "ticks": ""
             }
            },
            "type": "scattercarpet"
           }
          ],
          "scattergeo": [
           {
            "marker": {
             "colorbar": {
              "outlinewidth": 0,
              "ticks": ""
             }
            },
            "type": "scattergeo"
           }
          ],
          "scattergl": [
           {
            "marker": {
             "colorbar": {
              "outlinewidth": 0,
              "ticks": ""
             }
            },
            "type": "scattergl"
           }
          ],
          "scattermap": [
           {
            "marker": {
             "colorbar": {
              "outlinewidth": 0,
              "ticks": ""
             }
            },
            "type": "scattermap"
           }
          ],
          "scattermapbox": [
           {
            "marker": {
             "colorbar": {
              "outlinewidth": 0,
              "ticks": ""
             }
            },
            "type": "scattermapbox"
           }
          ],
          "scatterpolar": [
           {
            "marker": {
             "colorbar": {
              "outlinewidth": 0,
              "ticks": ""
             }
            },
            "type": "scatterpolar"
           }
          ],
          "scatterpolargl": [
           {
            "marker": {
             "colorbar": {
              "outlinewidth": 0,
              "ticks": ""
             }
            },
            "type": "scatterpolargl"
           }
          ],
          "scatterternary": [
           {
            "marker": {
             "colorbar": {
              "outlinewidth": 0,
              "ticks": ""
             }
            },
            "type": "scatterternary"
           }
          ],
          "surface": [
           {
            "colorbar": {
             "outlinewidth": 0,
             "ticks": ""
            },
            "colorscale": [
             [
              0,
              "#0d0887"
             ],
             [
              0.1111111111111111,
              "#46039f"
             ],
             [
              0.2222222222222222,
              "#7201a8"
             ],
             [
              0.3333333333333333,
              "#9c179e"
             ],
             [
              0.4444444444444444,
              "#bd3786"
             ],
             [
              0.5555555555555556,
              "#d8576b"
             ],
             [
              0.6666666666666666,
              "#ed7953"
             ],
             [
              0.7777777777777778,
              "#fb9f3a"
             ],
             [
              0.8888888888888888,
              "#fdca26"
             ],
             [
              1,
              "#f0f921"
             ]
            ],
            "type": "surface"
           }
          ],
          "table": [
           {
            "cells": {
             "fill": {
              "color": "#EBF0F8"
             },
             "line": {
              "color": "white"
             }
            },
            "header": {
             "fill": {
              "color": "#C8D4E3"
             },
             "line": {
              "color": "white"
             }
            },
            "type": "table"
           }
          ]
         },
         "layout": {
          "annotationdefaults": {
           "arrowcolor": "#2a3f5f",
           "arrowhead": 0,
           "arrowwidth": 1
          },
          "autotypenumbers": "strict",
          "coloraxis": {
           "colorbar": {
            "outlinewidth": 0,
            "ticks": ""
           }
          },
          "colorscale": {
           "diverging": [
            [
             0,
             "#8e0152"
            ],
            [
             0.1,
             "#c51b7d"
            ],
            [
             0.2,
             "#de77ae"
            ],
            [
             0.3,
             "#f1b6da"
            ],
            [
             0.4,
             "#fde0ef"
            ],
            [
             0.5,
             "#f7f7f7"
            ],
            [
             0.6,
             "#e6f5d0"
            ],
            [
             0.7,
             "#b8e186"
            ],
            [
             0.8,
             "#7fbc41"
            ],
            [
             0.9,
             "#4d9221"
            ],
            [
             1,
             "#276419"
            ]
           ],
           "sequential": [
            [
             0,
             "#0d0887"
            ],
            [
             0.1111111111111111,
             "#46039f"
            ],
            [
             0.2222222222222222,
             "#7201a8"
            ],
            [
             0.3333333333333333,
             "#9c179e"
            ],
            [
             0.4444444444444444,
             "#bd3786"
            ],
            [
             0.5555555555555556,
             "#d8576b"
            ],
            [
             0.6666666666666666,
             "#ed7953"
            ],
            [
             0.7777777777777778,
             "#fb9f3a"
            ],
            [
             0.8888888888888888,
             "#fdca26"
            ],
            [
             1,
             "#f0f921"
            ]
           ],
           "sequentialminus": [
            [
             0,
             "#0d0887"
            ],
            [
             0.1111111111111111,
             "#46039f"
            ],
            [
             0.2222222222222222,
             "#7201a8"
            ],
            [
             0.3333333333333333,
             "#9c179e"
            ],
            [
             0.4444444444444444,
             "#bd3786"
            ],
            [
             0.5555555555555556,
             "#d8576b"
            ],
            [
             0.6666666666666666,
             "#ed7953"
            ],
            [
             0.7777777777777778,
             "#fb9f3a"
            ],
            [
             0.8888888888888888,
             "#fdca26"
            ],
            [
             1,
             "#f0f921"
            ]
           ]
          },
          "colorway": [
           "#636efa",
           "#EF553B",
           "#00cc96",
           "#ab63fa",
           "#FFA15A",
           "#19d3f3",
           "#FF6692",
           "#B6E880",
           "#FF97FF",
           "#FECB52"
          ],
          "font": {
           "color": "#2a3f5f"
          },
          "geo": {
           "bgcolor": "white",
           "lakecolor": "white",
           "landcolor": "#E5ECF6",
           "showlakes": true,
           "showland": true,
           "subunitcolor": "white"
          },
          "hoverlabel": {
           "align": "left"
          },
          "hovermode": "closest",
          "mapbox": {
           "style": "light"
          },
          "paper_bgcolor": "white",
          "plot_bgcolor": "#E5ECF6",
          "polar": {
           "angularaxis": {
            "gridcolor": "white",
            "linecolor": "white",
            "ticks": ""
           },
           "bgcolor": "#E5ECF6",
           "radialaxis": {
            "gridcolor": "white",
            "linecolor": "white",
            "ticks": ""
           }
          },
          "scene": {
           "xaxis": {
            "backgroundcolor": "#E5ECF6",
            "gridcolor": "white",
            "gridwidth": 2,
            "linecolor": "white",
            "showbackground": true,
            "ticks": "",
            "zerolinecolor": "white"
           },
           "yaxis": {
            "backgroundcolor": "#E5ECF6",
            "gridcolor": "white",
            "gridwidth": 2,
            "linecolor": "white",
            "showbackground": true,
            "ticks": "",
            "zerolinecolor": "white"
           },
           "zaxis": {
            "backgroundcolor": "#E5ECF6",
            "gridcolor": "white",
            "gridwidth": 2,
            "linecolor": "white",
            "showbackground": true,
            "ticks": "",
            "zerolinecolor": "white"
           }
          },
          "shapedefaults": {
           "line": {
            "color": "#2a3f5f"
           }
          },
          "ternary": {
           "aaxis": {
            "gridcolor": "white",
            "linecolor": "white",
            "ticks": ""
           },
           "baxis": {
            "gridcolor": "white",
            "linecolor": "white",
            "ticks": ""
           },
           "bgcolor": "#E5ECF6",
           "caxis": {
            "gridcolor": "white",
            "linecolor": "white",
            "ticks": ""
           }
          },
          "title": {
           "x": 0.05
          },
          "xaxis": {
           "automargin": true,
           "gridcolor": "white",
           "linecolor": "white",
           "ticks": "",
           "title": {
            "standoff": 15
           },
           "zerolinecolor": "white",
           "zerolinewidth": 2
          },
          "yaxis": {
           "automargin": true,
           "gridcolor": "white",
           "linecolor": "white",
           "ticks": "",
           "title": {
            "standoff": 15
           },
           "zerolinecolor": "white",
           "zerolinewidth": 2
          }
         }
        },
        "title": {
         "font": {
          "weight": "bold"
         },
         "text": "Forschungseffizienz der EU-Mitgliedsstaaten",
         "x": 0.5
        },
        "width": 900
       }
      }
     },
     "metadata": {},
     "output_type": "display_data"
    },
    {
     "name": "stdout",
     "output_type": "stream",
     "text": [
      "Karte als SVG gespeichert: data/output/Hypothese_2.pdf\n"
     ]
    }
   ],
   "source": [
    "fig_efficiency, min_eff_value, max_eff_value = create_efficiency_map(\n",
    "    efficiency_normalized,\n",
    "    \"Forschungseffizienz der EU-Mitgliedsstaaten\",\n",
    "    show_non_eu=True\n",
    ")\n",
    "fig_efficiency.show()\n",
    "svg_filename = \"data/output/Hypothese_2.pdf\"\n",
    "fig_efficiency.write_image(svg_filename, format=\"pdf\")\n",
    "print(f\"Karte als SVG gespeichert: {svg_filename}\")\n"
   ]
  },
  {
   "cell_type": "code",
   "execution_count": 716,
   "id": "fad50dd9",
   "metadata": {},
   "outputs": [
    {
     "name": "stdout",
     "output_type": "stream",
     "text": [
      "Effizientestes Land: Romania (14.2 Papers/Mio.€)\n",
      "Ineffizientestes Land: Germany (1.4 Papers/Mio.€)\n"
     ]
    }
   ],
   "source": [
    "best_country, best_score = efficiency_ranking[0]\n",
    "worst_country, worst_score = efficiency_ranking[-1]\n",
    "print(f\"Effizientestes Land: {best_country} ({best_score:.1f} Papers/Mio.€)\")\n",
    "print(f\"Ineffizientestes Land: {worst_country} ({worst_score:.1f} Papers/Mio.€)\")"
   ]
  },
  {
   "cell_type": "code",
   "execution_count": 717,
   "id": "77836869",
   "metadata": {},
   "outputs": [
    {
     "name": "stdout",
     "output_type": "stream",
     "text": [
      "Top 5 Effizienteste Länder:\n",
      "  1. Romania: 14.2 Papers/Mio.€\n",
      "  2. Latvia: 13.3 Papers/Mio.€\n",
      "  3. Bulgaria: 12.7 Papers/Mio.€\n",
      "  4. Croatia: 12.0 Papers/Mio.€\n",
      "  5. Malta: 11.9 Papers/Mio.€\n"
     ]
    }
   ],
   "source": [
    "print(f\"Top 5 Effizienteste Länder:\")\n",
    "for rank, (country, score) in enumerate(efficiency_ranking[:5], 1):\n",
    "    print(f\"  {rank}. {country}: {score:.1f} Papers/Mio.€\")"
   ]
  },
  {
   "cell_type": "code",
   "execution_count": 718,
   "id": "cc55167d",
   "metadata": {},
   "outputs": [
    {
     "name": "stdout",
     "output_type": "stream",
     "text": [
      "Bottom 5 Ineffizienteste Länder:\n",
      "  23. France: 2.2 Papers/Mio.€\n",
      "  24. Finland: 2.0 Papers/Mio.€\n",
      "  25. Sweden: 1.8 Papers/Mio.€\n",
      "  26. Austria: 1.8 Papers/Mio.€\n",
      "  27. Germany: 1.4 Papers/Mio.€\n"
     ]
    }
   ],
   "source": [
    "print(f\"Bottom 5 Ineffizienteste Länder:\")\n",
    "for rank, (country, score) in enumerate(efficiency_ranking[-5:], len(efficiency_ranking)-4):\n",
    "    print(f\"  {rank}. {country}: {score:.1f} Papers/Mio.€\")"
   ]
  },
  {
   "cell_type": "markdown",
   "id": "b414e714",
   "metadata": {},
   "source": [
    "## Korrelationsanalyse"
   ]
  },
  {
   "cell_type": "markdown",
   "id": "e0dcbf08",
   "metadata": {},
   "source": [
    "### Datenaufbereitung"
   ]
  },
  {
   "cell_type": "code",
   "execution_count": 719,
   "id": "20e1dc04",
   "metadata": {},
   "outputs": [],
   "source": [
    "# Erstelle kombinierte Datenstruktur\n",
    "correlation_data = []\n",
    "for english_name, paper_count in eu_research_data.items():\n",
    "    # Finde entsprechenden deutschen Namen für Investitionsdaten\n",
    "    german_name = None\n",
    "    for german, english in eurostat_to_openalex_mapping.items():\n",
    "        if english == english_name:\n",
    "            german_name = german\n",
    "            break\n",
    "    \n",
    "    if german_name:\n",
    "        # Suche Investitionsdaten\n",
    "        investment_data = Investitionssummen_Länder[\n",
    "            Investitionssummen_Länder['Land'] == german_name\n",
    "        ]\n",
    "        \n",
    "        if not investment_data.empty:\n",
    "            investment_mio = investment_data['Betrag in Mio. Euro'].iloc[0]\n",
    "            \n",
    "            correlation_data.append({\n",
    "                'Country': english_name,\n",
    "                'German_Name': german_name,\n",
    "                'Paper_Count': paper_count,\n",
    "                'Investment_Mio_EUR': investment_mio,\n",
    "                'Investment_Mrd_EUR': investment_mio / 1000,\n",
    "                'Papers_per_Mio_EUR': paper_count / investment_mio if investment_mio > 0 else 0\n",
    "            })\n",
    "\n",
    "# Erstelle DataFrame für Analyse\n",
    "df_correlation = pd.DataFrame(correlation_data)"
   ]
  },
  {
   "cell_type": "code",
   "execution_count": 720,
   "id": "2b051a4a",
   "metadata": {},
   "outputs": [
    {
     "name": "stdout",
     "output_type": "stream",
     "text": [
      "\n",
      "Verfügbare Länder für Korrelationsanalyse:\n",
      "  France              : 2,340,240 Papers, 1079.69 Mrd €,    2.2 Papers/Mio.€\n",
      "  Germany             : 2,684,903 Papers, 1931.49 Mrd €,    1.4 Papers/Mio.€\n",
      "  Denmark             :  405,820 Papers, 174.86 Mrd €,    2.3 Papers/Mio.€\n",
      "  Spain               : 1,490,117 Papers, 314.67 Mrd €,    4.7 Papers/Mio.€\n",
      "  Belgium             :  533,431 Papers, 233.20 Mrd €,    2.3 Papers/Mio.€\n",
      "  Czech Republic      :  329,260 Papers,  65.08 Mrd €,    5.1 Papers/Mio.€\n",
      "  Finland             :  297,821 Papers, 151.55 Mrd €,    2.0 Papers/Mio.€\n",
      "  Italy               : 1,628,325 Papers, 489.08 Mrd €,    3.3 Papers/Mio.€\n",
      "  Luxembourg          :   43,109 Papers,  13.79 Mrd €,    3.1 Papers/Mio.€\n",
      "  Netherlands         :  883,788 Papers, 323.87 Mrd €,    2.7 Papers/Mio.€\n",
      "  Sweden              :  565,233 Papers, 306.92 Mrd €,    1.8 Papers/Mio.€\n",
      "  Hungary             :  196,164 Papers,  32.92 Mrd €,    6.0 Papers/Mio.€\n",
      "  Malta               :   14,755 Papers,   1.24 Mrd €,   11.9 Papers/Mio.€\n",
      "  Poland              :  841,244 Papers,  94.10 Mrd €,    8.9 Papers/Mio.€\n",
      "  Portugal            :  429,884 Papers,  55.86 Mrd €,    7.7 Papers/Mio.€\n",
      "  Slovenia            :   95,454 Papers,  17.80 Mrd €,    5.4 Papers/Mio.€\n",
      "  Austria             :  383,322 Papers, 215.65 Mrd €,    1.8 Papers/Mio.€\n",
      "  Greece              :  285,386 Papers,  38.28 Mrd €,    7.5 Papers/Mio.€\n",
      "  Ireland             :  225,952 Papers,  76.19 Mrd €,    3.0 Papers/Mio.€\n",
      "  Estonia             :   47,562 Papers,   6.81 Mrd €,    7.0 Papers/Mio.€\n",
      "  Romania             :  235,189 Papers,  16.53 Mrd €,   14.2 Papers/Mio.€\n",
      "  Bulgaria            :   89,259 Papers,   7.03 Mrd €,   12.7 Papers/Mio.€\n",
      "  Croatia             :  120,725 Papers,  10.06 Mrd €,   12.0 Papers/Mio.€\n",
      "  Lithuania           :   63,132 Papers,   7.76 Mrd €,    8.1 Papers/Mio.€\n",
      "  Latvia              :   43,808 Papers,   3.31 Mrd €,   13.3 Papers/Mio.€\n",
      "  Slovakia            :  112,700 Papers,  12.76 Mrd €,    8.8 Papers/Mio.€\n",
      "  Cyprus              :   23,566 Papers,   2.35 Mrd €,   10.0 Papers/Mio.€\n"
     ]
    }
   ],
   "source": [
    "print(f\"\\nVerfügbare Länder für Korrelationsanalyse:\")\n",
    "for _, row in df_correlation.iterrows():\n",
    "    print(f\"  {row['Country']:20s}: {row['Paper_Count']:8,} Papers, \"\n",
    "            f\"{row['Investment_Mrd_EUR']:6.2f} Mrd €, \"\n",
    "            f\"{row['Papers_per_Mio_EUR']:6.1f} Papers/Mio.€\")"
   ]
  },
  {
   "cell_type": "markdown",
   "id": "b24ef17f",
   "metadata": {},
   "source": [
    "### Desktiptive Statistik"
   ]
  },
  {
   "cell_type": "code",
   "execution_count": 721,
   "id": "ce347055",
   "metadata": {},
   "outputs": [
    {
     "name": "stdout",
     "output_type": "stream",
     "text": [
      "Anzahl der Paper:\n",
      "  Anzahl Länder: 27\n",
      "  Mittelwert: 533,709\n",
      "  Median: 285,386\n",
      "  Standardabweichung: 705,317\n",
      "  Min: 14,755 (Malta)\n",
      "  Max: 2,684,903 (Germany)\n"
     ]
    }
   ],
   "source": [
    "print(f\"Anzahl der Paper:\")\n",
    "print(f\"  Anzahl Länder: {len(df_correlation)}\")\n",
    "print(f\"  Mittelwert: {df_correlation['Paper_Count'].mean():,.0f}\")\n",
    "print(f\"  Median: {df_correlation['Paper_Count'].median():,.0f}\")\n",
    "print(f\"  Standardabweichung: {df_correlation['Paper_Count'].std():,.0f}\")\n",
    "print(f\"  Min: {df_correlation['Paper_Count'].min():,} ({df_correlation.loc[df_correlation['Paper_Count'].idxmin(), 'Country']})\")\n",
    "print(f\"  Max: {df_correlation['Paper_Count'].max():,} ({df_correlation.loc[df_correlation['Paper_Count'].idxmax(), 'Country']})\")"
   ]
  },
  {
   "cell_type": "code",
   "execution_count": 722,
   "id": "f76f7c24",
   "metadata": {},
   "outputs": [
    {
     "name": "stdout",
     "output_type": "stream",
     "text": [
      "Forschungsinvestitionen (Mrd €):\n",
      "  Mittelwert: 210.48\n",
      "  Median: 55.86\n",
      "  Standardabweichung: 412.21\n",
      "  Min: 1.24 (Malta)\n",
      "  Max: 1931.49 (Germany)\n"
     ]
    }
   ],
   "source": [
    "print(f\"Forschungsinvestitionen (Mrd €):\")\n",
    "print(f\"  Mittelwert: {df_correlation['Investment_Mrd_EUR'].mean():.2f}\")\n",
    "print(f\"  Median: {df_correlation['Investment_Mrd_EUR'].median():.2f}\")\n",
    "print(f\"  Standardabweichung: {df_correlation['Investment_Mrd_EUR'].std():.2f}\")\n",
    "print(f\"  Min: {df_correlation['Investment_Mrd_EUR'].min():.2f} ({df_correlation.loc[df_correlation['Investment_Mrd_EUR'].idxmin(), 'Country']})\")\n",
    "print(f\"  Max: {df_correlation['Investment_Mrd_EUR'].max():.2f} ({df_correlation.loc[df_correlation['Investment_Mrd_EUR'].idxmax(), 'Country']})\")"
   ]
  },
  {
   "cell_type": "code",
   "execution_count": 723,
   "id": "f737170c",
   "metadata": {},
   "outputs": [
    {
     "name": "stdout",
     "output_type": "stream",
     "text": [
      "Forschungseffizienz (Papers/Mio. €):\n",
      "  Mittelwert: 6.3\n",
      "  Median: 5.4\n",
      "  Standardabweichung: 4.1\n",
      "  Min: 1.4 (Germany)\n",
      "  Max: 14.2 (Romania)\n"
     ]
    }
   ],
   "source": [
    "print(f\"Forschungseffizienz (Papers/Mio. €):\")\n",
    "print(f\"  Mittelwert: {df_correlation['Papers_per_Mio_EUR'].mean():.1f}\")\n",
    "print(f\"  Median: {df_correlation['Papers_per_Mio_EUR'].median():.1f}\")\n",
    "print(f\"  Standardabweichung: {df_correlation['Papers_per_Mio_EUR'].std():.1f}\")\n",
    "print(f\"  Min: {df_correlation['Papers_per_Mio_EUR'].min():.1f} ({df_correlation.loc[df_correlation['Papers_per_Mio_EUR'].idxmin(), 'Country']})\")\n",
    "print(f\"  Max: {df_correlation['Papers_per_Mio_EUR'].max():.1f} ({df_correlation.loc[df_correlation['Papers_per_Mio_EUR'].idxmax(), 'Country']})\")"
   ]
  },
  {
   "cell_type": "markdown",
   "id": "32e6fc78",
   "metadata": {},
   "source": [
    "### Korrelationsanalyse: Investitionen vs. Anzahl der Paper"
   ]
  },
  {
   "cell_type": "code",
   "execution_count": 724,
   "id": "8953ccff",
   "metadata": {},
   "outputs": [
    {
     "name": "stdout",
     "output_type": "stream",
     "text": [
      "Pearson-Korrelation:\n",
      "  Korrelationskoeffizient: r = 0.9125\n",
      "  P-Wert: 0.000000\n",
      "  Signifikanz (α=0.05): Signifikant\n"
     ]
    }
   ],
   "source": [
    "# Pearson-Korrelation\n",
    "pearson_corr, pearson_p = stats.pearsonr(\n",
    "    df_correlation['Investment_Mrd_EUR'], \n",
    "    df_correlation['Paper_Count']\n",
    ")\n",
    "\n",
    "print(f\"Pearson-Korrelation:\")\n",
    "print(f\"  Korrelationskoeffizient: r = {pearson_corr:.4f}\")\n",
    "print(f\"  P-Wert: {pearson_p:.6f}\")\n",
    "print(f\"  Signifikanz (α=0.05): {'Signifikant' if pearson_p < 0.05 else 'Nicht signifikant'}\")"
   ]
  },
  {
   "cell_type": "code",
   "execution_count": 725,
   "id": "03d0c04f",
   "metadata": {},
   "outputs": [
    {
     "name": "stdout",
     "output_type": "stream",
     "text": [
      "Spearman-Korrelation:\n",
      "  Korrelationskoeffizient: ρ = 0.9505\n",
      "  P-Wert: 0.000000\n",
      "  Signifikanz (α=0.05): Signifikant\n"
     ]
    }
   ],
   "source": [
    "# Spearman-Korrelation (rang-basiert, robuster)\n",
    "spearman_corr, spearman_p = stats.spearmanr(\n",
    "    df_correlation['Investment_Mrd_EUR'], \n",
    "    df_correlation['Paper_Count']\n",
    ")\n",
    "\n",
    "print(f\"Spearman-Korrelation:\")\n",
    "print(f\"  Korrelationskoeffizient: ρ = {spearman_corr:.4f}\")\n",
    "print(f\"  P-Wert: {spearman_p:.6f}\")\n",
    "print(f\"  Signifikanz (α=0.05): {'Signifikant' if spearman_p < 0.05 else 'Nicht signifikant'}\")"
   ]
  },
  {
   "cell_type": "markdown",
   "id": "cbd547f0",
   "metadata": {},
   "source": [
    "### Regressionsanalyse"
   ]
  },
  {
   "cell_type": "code",
   "execution_count": 726,
   "id": "7ca21f53",
   "metadata": {},
   "outputs": [
    {
     "name": "stdout",
     "output_type": "stream",
     "text": [
      "Lineare Regression: Papers = β₀ + β₁ × Investment\n",
      "  Achsenabschnitt (β₀): 205,097\n",
      "  Steigung (β₁): 1,561\n",
      "  R² (Bestimmtheitsmaß): 0.8326\n",
      "  Erklärte Varianz: 83.3%\n",
      "\n",
      "Interpretation:\n",
      "  Pro 1 Mrd € mehr Investment → 1,561 mehr Papers (erwartet)\n",
      "  Höhere Investitionen führen zu mehr Papers\n"
     ]
    }
   ],
   "source": [
    "# Einfache lineare Regression\n",
    "X = df_correlation['Investment_Mrd_EUR'].values.reshape(-1, 1)\n",
    "y = df_correlation['Paper_Count'].values\n",
    "\n",
    "model = LinearRegression()\n",
    "model.fit(X, y)\n",
    "\n",
    "# Vorhersagen\n",
    "y_pred = model.predict(X)\n",
    "\n",
    "# R-squared (Bestimmtheitsmaß)\n",
    "r2 = model.score(X, y)\n",
    "\n",
    "print(f\"Lineare Regression: Papers = β₀ + β₁ × Investment\")\n",
    "print(f\"  Achsenabschnitt (β₀): {model.intercept_:,.0f}\")\n",
    "print(f\"  Steigung (β₁): {model.coef_[0]:,.0f}\")\n",
    "print(f\"  R² (Bestimmtheitsmaß): {r2:.4f}\")\n",
    "print(f\"  Erklärte Varianz: {r2*100:.1f}%\")\n",
    "\n",
    "print(f\"\\nInterpretation:\")\n",
    "print(f\"  Pro 1 Mrd € mehr Investment → {model.coef_[0]:,.0f} mehr Papers (erwartet)\")\n",
    "if model.coef_[0] > 0:\n",
    "    print(f\"  Höhere Investitionen führen zu mehr Papers\")\n",
    "else:\n",
    "    print(f\"  Höhere Investitionen führen zu weniger Papers (ungewöhnlich)\")"
   ]
  },
  {
   "cell_type": "markdown",
   "id": "f61735ad",
   "metadata": {},
   "source": [
    "### Ranking und Effizienz"
   ]
  },
  {
   "cell_type": "code",
   "execution_count": 727,
   "id": "b0571587",
   "metadata": {},
   "outputs": [
    {
     "name": "stdout",
     "output_type": "stream",
     "text": [
      "Ranking nach Paper-Anzahl:\n",
      "   1. Germany        : 2,684,903 Papers, 1931.49 Mrd €\n",
      "   2. France         : 2,340,240 Papers, 1079.69 Mrd €\n",
      "   3. Italy          : 1,628,325 Papers, 489.08 Mrd €\n",
      "   4. Spain          : 1,490,117 Papers, 314.67 Mrd €\n",
      "   5. Netherlands    :  883,788 Papers, 323.87 Mrd €\n",
      "   6. Poland         :  841,244 Papers,  94.10 Mrd €\n",
      "   7. Sweden         :  565,233 Papers, 306.92 Mrd €\n",
      "   8. Belgium        :  533,431 Papers, 233.20 Mrd €\n",
      "   9. Portugal       :  429,884 Papers,  55.86 Mrd €\n",
      "  10. Denmark        :  405,820 Papers, 174.86 Mrd €\n",
      "  11. Austria        :  383,322 Papers, 215.65 Mrd €\n",
      "  12. Czech Republic :  329,260 Papers,  65.08 Mrd €\n",
      "  13. Finland        :  297,821 Papers, 151.55 Mrd €\n",
      "  14. Greece         :  285,386 Papers,  38.28 Mrd €\n",
      "  15. Romania        :  235,189 Papers,  16.53 Mrd €\n",
      "  16. Ireland        :  225,952 Papers,  76.19 Mrd €\n",
      "  17. Hungary        :  196,164 Papers,  32.92 Mrd €\n",
      "  18. Croatia        :  120,725 Papers,  10.06 Mrd €\n",
      "  19. Slovakia       :  112,700 Papers,  12.76 Mrd €\n",
      "  20. Slovenia       :   95,454 Papers,  17.80 Mrd €\n",
      "  21. Bulgaria       :   89,259 Papers,   7.03 Mrd €\n",
      "  22. Lithuania      :   63,132 Papers,   7.76 Mrd €\n",
      "  23. Estonia        :   47,562 Papers,   6.81 Mrd €\n",
      "  24. Latvia         :   43,808 Papers,   3.31 Mrd €\n",
      "  25. Luxembourg     :   43,109 Papers,  13.79 Mrd €\n",
      "  26. Cyprus         :   23,566 Papers,   2.35 Mrd €\n",
      "  27. Malta          :   14,755 Papers,   1.24 Mrd €\n"
     ]
    }
   ],
   "source": [
    "# Sortiere nach Paperanzahl\n",
    "df_sorted_papers = df_correlation.sort_values('Paper_Count', ascending=False)\n",
    "\n",
    "print(f\"Ranking nach Paper-Anzahl:\")\n",
    "for i, row in df_sorted_papers.iterrows():\n",
    "    print(f\"  {df_sorted_papers.index.get_loc(i)+1:2d}. {row['Country']:15s}: \"\n",
    "            f\"{row['Paper_Count']:8,} Papers, {row['Investment_Mrd_EUR']:6.2f} Mrd €\")"
   ]
  },
  {
   "cell_type": "code",
   "execution_count": 728,
   "id": "548da39a",
   "metadata": {},
   "outputs": [
    {
     "name": "stdout",
     "output_type": "stream",
     "text": [
      "Ranking nach Effizienz (Papers pro Mio. €):\n",
      "   1. Romania        :   14.2 Papers/Mio.€\n",
      "   2. Latvia         :   13.3 Papers/Mio.€\n",
      "   3. Bulgaria       :   12.7 Papers/Mio.€\n",
      "   4. Croatia        :   12.0 Papers/Mio.€\n",
      "   5. Malta          :   11.9 Papers/Mio.€\n",
      "   6. Cyprus         :   10.0 Papers/Mio.€\n",
      "   7. Poland         :    8.9 Papers/Mio.€\n",
      "   8. Slovakia       :    8.8 Papers/Mio.€\n",
      "   9. Lithuania      :    8.1 Papers/Mio.€\n",
      "  10. Portugal       :    7.7 Papers/Mio.€\n",
      "  11. Greece         :    7.5 Papers/Mio.€\n",
      "  12. Estonia        :    7.0 Papers/Mio.€\n",
      "  13. Hungary        :    6.0 Papers/Mio.€\n",
      "  14. Slovenia       :    5.4 Papers/Mio.€\n",
      "  15. Czech Republic :    5.1 Papers/Mio.€\n",
      "  16. Spain          :    4.7 Papers/Mio.€\n",
      "  17. Italy          :    3.3 Papers/Mio.€\n",
      "  18. Luxembourg     :    3.1 Papers/Mio.€\n",
      "  19. Ireland        :    3.0 Papers/Mio.€\n",
      "  20. Netherlands    :    2.7 Papers/Mio.€\n",
      "  21. Denmark        :    2.3 Papers/Mio.€\n",
      "  22. Belgium        :    2.3 Papers/Mio.€\n",
      "  23. France         :    2.2 Papers/Mio.€\n",
      "  24. Finland        :    2.0 Papers/Mio.€\n",
      "  25. Sweden         :    1.8 Papers/Mio.€\n",
      "  26. Austria        :    1.8 Papers/Mio.€\n",
      "  27. Germany        :    1.4 Papers/Mio.€\n"
     ]
    }
   ],
   "source": [
    "# Sortiere nach Effizienz\n",
    "df_sorted_efficiency = df_correlation.sort_values('Papers_per_Mio_EUR', ascending=False)\n",
    "\n",
    "print(f\"Ranking nach Effizienz (Papers pro Mio. €):\")\n",
    "for i, row in df_sorted_efficiency.iterrows():\n",
    "    print(f\"  {df_sorted_efficiency.index.get_loc(i)+1:2d}. {row['Country']:15s}: \"\n",
    "            f\"{row['Papers_per_Mio_EUR']:6.1f} Papers/Mio.€\")"
   ]
  }
 ],
 "metadata": {
  "kernelspec": {
   "display_name": ".venv",
   "language": "python",
   "name": "python3"
  },
  "language_info": {
   "codemirror_mode": {
    "name": "ipython",
    "version": 3
   },
   "file_extension": ".py",
   "mimetype": "text/x-python",
   "name": "python",
   "nbconvert_exporter": "python",
   "pygments_lexer": "ipython3",
   "version": "3.11.9"
  }
 },
 "nbformat": 4,
 "nbformat_minor": 5
}
